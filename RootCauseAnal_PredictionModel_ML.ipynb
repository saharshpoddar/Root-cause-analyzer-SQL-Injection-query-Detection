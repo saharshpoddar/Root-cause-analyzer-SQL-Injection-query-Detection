{
  "nbformat": 4,
  "nbformat_minor": 0,
  "metadata": {
    "colab": {
      "name": "RootCauseAnal- PredictionModel_ML.ipynb",
      "provenance": [],
      "collapsed_sections": [],
      "toc_visible": true
    },
    "kernelspec": {
      "name": "python3",
      "display_name": "Python 3"
    }
  },
  "cells": [
    {
      "cell_type": "markdown",
      "metadata": {
        "id": "r45mwcjcNOyR"
      },
      "source": [
        "#SQL Injection Detection - ROOT CAUSE ANALYSIS (using ML)"
      ]
    },
    {
      "cell_type": "markdown",
      "metadata": {
        "id": "qpvOPJKUNU2w"
      },
      "source": [
        "#Importing Libraries"
      ]
    },
    {
      "cell_type": "code",
      "metadata": {
        "colab": {
          "base_uri": "https://localhost:8080/"
        },
        "id": "OKn1ZsH7-Ivr",
        "outputId": "1b4ec85e-ba7f-438a-c7b5-9015a986116a"
      },
      "source": [
        "!pip install nltk\n",
        "import nltk\n",
        "nltk.download('punkt')\n",
        "nltk.download('stopwords')\n",
        "nltk.download('wordnet')\n",
        "\n",
        "!pip install tensorflow-hub\n",
        "!pip install tfds-nightly"
      ],
      "execution_count": null,
      "outputs": [
        {
          "output_type": "stream",
          "text": [
            "Requirement already satisfied: nltk in /usr/local/lib/python3.7/dist-packages (3.2.5)\n",
            "Requirement already satisfied: six in /usr/local/lib/python3.7/dist-packages (from nltk) (1.15.0)\n",
            "[nltk_data] Downloading package punkt to /root/nltk_data...\n",
            "[nltk_data]   Package punkt is already up-to-date!\n",
            "[nltk_data] Downloading package stopwords to /root/nltk_data...\n",
            "[nltk_data]   Package stopwords is already up-to-date!\n",
            "[nltk_data] Downloading package wordnet to /root/nltk_data...\n",
            "[nltk_data]   Package wordnet is already up-to-date!\n",
            "Requirement already satisfied: tensorflow-hub in /usr/local/lib/python3.7/dist-packages (0.12.0)\n",
            "Requirement already satisfied: protobuf>=3.8.0 in /usr/local/lib/python3.7/dist-packages (from tensorflow-hub) (3.12.4)\n",
            "Requirement already satisfied: numpy>=1.12.0 in /usr/local/lib/python3.7/dist-packages (from tensorflow-hub) (1.19.5)\n",
            "Requirement already satisfied: six>=1.9 in /usr/local/lib/python3.7/dist-packages (from protobuf>=3.8.0->tensorflow-hub) (1.15.0)\n",
            "Requirement already satisfied: setuptools in /usr/local/lib/python3.7/dist-packages (from protobuf>=3.8.0->tensorflow-hub) (57.0.0)\n",
            "Requirement already satisfied: tfds-nightly in /usr/local/lib/python3.7/dist-packages (4.3.0.dev202106070106)\n",
            "Requirement already satisfied: promise in /usr/local/lib/python3.7/dist-packages (from tfds-nightly) (2.3)\n",
            "Requirement already satisfied: tensorflow-metadata in /usr/local/lib/python3.7/dist-packages (from tfds-nightly) (1.0.0)\n",
            "Requirement already satisfied: absl-py in /usr/local/lib/python3.7/dist-packages (from tfds-nightly) (0.12.0)\n",
            "Requirement already satisfied: dill in /usr/local/lib/python3.7/dist-packages (from tfds-nightly) (0.3.3)\n",
            "Requirement already satisfied: termcolor in /usr/local/lib/python3.7/dist-packages (from tfds-nightly) (1.1.0)\n",
            "Requirement already satisfied: protobuf>=3.12.2 in /usr/local/lib/python3.7/dist-packages (from tfds-nightly) (3.12.4)\n",
            "Requirement already satisfied: tqdm in /usr/local/lib/python3.7/dist-packages (from tfds-nightly) (4.41.1)\n",
            "Requirement already satisfied: requests>=2.19.0 in /usr/local/lib/python3.7/dist-packages (from tfds-nightly) (2.23.0)\n",
            "Requirement already satisfied: six in /usr/local/lib/python3.7/dist-packages (from tfds-nightly) (1.15.0)\n",
            "Requirement already satisfied: importlib-resources; python_version < \"3.9\" in /usr/local/lib/python3.7/dist-packages (from tfds-nightly) (5.1.3)\n",
            "Requirement already satisfied: future in /usr/local/lib/python3.7/dist-packages (from tfds-nightly) (0.16.0)\n",
            "Requirement already satisfied: numpy in /usr/local/lib/python3.7/dist-packages (from tfds-nightly) (1.19.5)\n",
            "Requirement already satisfied: typing-extensions; python_version < \"3.8\" in /usr/local/lib/python3.7/dist-packages (from tfds-nightly) (3.7.4.3)\n",
            "Requirement already satisfied: attrs>=18.1.0 in /usr/local/lib/python3.7/dist-packages (from tfds-nightly) (21.2.0)\n",
            "Requirement already satisfied: googleapis-common-protos<2,>=1.52.0 in /usr/local/lib/python3.7/dist-packages (from tensorflow-metadata->tfds-nightly) (1.53.0)\n",
            "Requirement already satisfied: setuptools in /usr/local/lib/python3.7/dist-packages (from protobuf>=3.12.2->tfds-nightly) (57.0.0)\n",
            "Requirement already satisfied: idna<3,>=2.5 in /usr/local/lib/python3.7/dist-packages (from requests>=2.19.0->tfds-nightly) (2.10)\n",
            "Requirement already satisfied: urllib3!=1.25.0,!=1.25.1,<1.26,>=1.21.1 in /usr/local/lib/python3.7/dist-packages (from requests>=2.19.0->tfds-nightly) (1.24.3)\n",
            "Requirement already satisfied: certifi>=2017.4.17 in /usr/local/lib/python3.7/dist-packages (from requests>=2.19.0->tfds-nightly) (2020.12.5)\n",
            "Requirement already satisfied: chardet<4,>=3.0.2 in /usr/local/lib/python3.7/dist-packages (from requests>=2.19.0->tfds-nightly) (3.0.4)\n",
            "Requirement already satisfied: zipp>=0.4; python_version < \"3.8\" in /usr/local/lib/python3.7/dist-packages (from importlib-resources; python_version < \"3.9\"->tfds-nightly) (3.4.1)\n"
          ],
          "name": "stdout"
        }
      ]
    },
    {
      "cell_type": "code",
      "metadata": {
        "id": "txjbMhjQTkZR"
      },
      "source": [
        "import sklearn\n",
        "from sklearn.utils import shuffle\n",
        "from sklearn import preprocessing , neighbors , svm\n",
        "from sklearn.preprocessing import LabelEncoder, StandardScaler\n",
        "from sklearn.feature_extraction.text import CountVectorizer\n",
        "from sklearn.linear_model import LogisticRegression\n",
        "from sklearn.model_selection import train_test_split\n",
        "from sklearn.metrics import accuracy_score, precision_score, recall_score\n",
        "from sklearn.ensemble import GradientBoostingClassifier\n",
        "\n",
        "import keras\n",
        "from keras import layers\n",
        "from keras.models import Sequential\n",
        "from keras.preprocessing.text import Tokenizer\n",
        "from keras.wrappers.scikit_learn import KerasClassifier\n",
        "\n",
        "import tensorflow as tf\n",
        "import tensorflow_hub as hub\n",
        "import tensorflow_datasets as tfds\n",
        "\n",
        "from nltk import ngrams\n",
        "from nltk.stem import PorterStemmer, WordNetLemmatizer\n",
        "from nltk.corpus import stopwords \n",
        "from nltk.tokenize import word_tokenize, sent_tokenize"
      ],
      "execution_count": null,
      "outputs": []
    },
    {
      "cell_type": "code",
      "metadata": {
        "id": "wg1CYxb43DVp"
      },
      "source": [
        "import numpy as np\n",
        "import pandas as pd\n",
        "import glob\n",
        "import time\n",
        "from xml.dom import minidom\n",
        "from __future__ import absolute_import, division, print_function, unicode_literals\n",
        "import os\n",
        "import math\n",
        "import collections\n",
        "import re\n",
        "from itertools import groupby"
      ],
      "execution_count": null,
      "outputs": []
    },
    {
      "cell_type": "code",
      "metadata": {
        "colab": {
          "base_uri": "https://localhost:8080/"
        },
        "id": "MHzWTOvORYLV",
        "outputId": "e7275c06-88f9-4d9d-9d24-baf896bfb53d"
      },
      "source": [
        "print(\"Tensorflow Version: \", tf.__version__)\n",
        "print(\"Hub version: \", hub.__version__)\n",
        "print(\"Keras version: \", keras.__version__)\n",
        "print(\"Nltk version: \", nltk.__version__)\n",
        "print(\"Sklearn version: \", sklearn.__version__)\n",
        "print(\"Pandas version: \", pd.__version__)"
      ],
      "execution_count": null,
      "outputs": [
        {
          "output_type": "stream",
          "text": [
            "Tensorflow Version:  2.5.0\n",
            "Hub version:  0.12.0\n",
            "Keras version:  2.5.0\n",
            "Nltk version:  3.2.5\n",
            "Sklearn version:  0.22.2.post1\n",
            "Pandas version:  1.1.5\n"
          ],
          "name": "stdout"
        }
      ]
    },
    {
      "cell_type": "markdown",
      "metadata": {
        "id": "-lu4K2oPNlA4"
      },
      "source": [
        "#Loading Datasets"
      ]
    },
    {
      "cell_type": "code",
      "metadata": {
        "id": "IwB7CSHOUKB4"
      },
      "source": [
        "dfSQLI = pd.read_csv(\"sqli.csv\", encoding='utf-16') \n",
        "sql = pd.read_csv('sql.csv')\n",
        "password = pd.read_csv('password.csv')\n",
        "username = pd.read_csv('username.csv')\n",
        "sqli = pd.read_csv('sqli4.csv')\n",
        "username.dropna(axis=0, how=\"all\", inplace=True)\n",
        "password.dropna(axis=0, how=\"all\", inplace=True)\n",
        "username.reset_index(drop=True, inplace=True)\n",
        "password.reset_index(drop=True, inplace=True)"
      ],
      "execution_count": null,
      "outputs": []
    },
    {
      "cell_type": "code",
      "metadata": {
        "id": "4bOnXvx335CA"
      },
      "source": [
        "vectorizer = CountVectorizer(min_df=2, max_df=0.7, stop_words=stopwords.words('english'))\n",
        "posts = vectorizer.fit_transform(dfSQLI['Sentence'].values.astype('U')).toarray()\n",
        "transformed_posts = pd.DataFrame(posts)"
      ],
      "execution_count": null,
      "outputs": []
    },
    {
      "cell_type": "code",
      "metadata": {
        "id": "zpKXqAky4A2U"
      },
      "source": [
        "dfSQLI = pd.concat([dfSQLI,transformed_posts], axis=1)\n",
        "X_df = dfSQLI[dfSQLI.columns[2:]]\n",
        "y_df = dfSQLI['Label']"
      ],
      "execution_count": null,
      "outputs": []
    },
    {
      "cell_type": "markdown",
      "metadata": {
        "id": "SKA5pTHmOKbt"
      },
      "source": [
        "#Fill \"LENGTH\" attribute as per corresponding rows"
      ]
    },
    {
      "cell_type": "code",
      "metadata": {
        "id": "ZJ8VOAFaVhcP",
        "colab": {
          "base_uri": "https://localhost:8080/"
        },
        "outputId": "f90c99b7-3162-4f86-d40d-e4e691559f63"
      },
      "source": [
        "def leng(df,col,len_col):\n",
        "  for i in range(len(df)):\n",
        "    cl = df[col][i]\n",
        "    length = len(str(cl))\n",
        "    df[len_col][i] = length\n",
        "  return df\n",
        "  \n",
        "username = leng(username, 'Query','Length')\n",
        "password = leng(password, 'Query','Length')\n",
        "sql = leng(sql, 'Query','Length')"
      ],
      "execution_count": null,
      "outputs": [
        {
          "output_type": "stream",
          "text": [
            "/usr/local/lib/python3.7/dist-packages/ipykernel_launcher.py:5: SettingWithCopyWarning: \n",
            "A value is trying to be set on a copy of a slice from a DataFrame\n",
            "\n",
            "See the caveats in the documentation: https://pandas.pydata.org/pandas-docs/stable/user_guide/indexing.html#returning-a-view-versus-a-copy\n",
            "  \"\"\"\n"
          ],
          "name": "stderr"
        }
      ]
    },
    {
      "cell_type": "markdown",
      "metadata": {
        "id": "Gx4GjAT6OayL"
      },
      "source": [
        "#Compile DataFrame"
      ]
    },
    {
      "cell_type": "code",
      "metadata": {
        "id": "oLtRTk2zW2qw"
      },
      "source": [
        "username['Label'] = 'username'\n",
        "password['Label'] = 'password'\n",
        "sqli['Label'] = 'sqli'\n",
        "sql['Label'] = 'sql'\n",
        "\n",
        "sqli.drop(['Attack'], axis=1, inplace=True)\n",
        "username.drop(['Attack'], axis=1, inplace=True)\n",
        "password.drop(['Attack'], axis=1, inplace=True)\n",
        "sql.drop(['Attack'], axis=1, inplace=True)\n",
        "\n",
        "df = pd.concat([sqli,sql,username,password])\n",
        "df.reset_index(drop=True,inplace=True)"
      ],
      "execution_count": null,
      "outputs": []
    },
    {
      "cell_type": "code",
      "metadata": {
        "colab": {
          "base_uri": "https://localhost:8080/",
          "height": 417
        },
        "id": "35K53huukzEx",
        "outputId": "c26a7fda-90a4-4af6-cde3-48bca7ea3347"
      },
      "source": [
        "df"
      ],
      "execution_count": null,
      "outputs": [
        {
          "output_type": "execute_result",
          "data": {
            "text/html": [
              "<div>\n",
              "<style scoped>\n",
              "    .dataframe tbody tr th:only-of-type {\n",
              "        vertical-align: middle;\n",
              "    }\n",
              "\n",
              "    .dataframe tbody tr th {\n",
              "        vertical-align: top;\n",
              "    }\n",
              "\n",
              "    .dataframe thead th {\n",
              "        text-align: right;\n",
              "    }\n",
              "</style>\n",
              "<table border=\"1\" class=\"dataframe\">\n",
              "  <thead>\n",
              "    <tr style=\"text-align: right;\">\n",
              "      <th></th>\n",
              "      <th>Query</th>\n",
              "      <th>Length</th>\n",
              "      <th>Label</th>\n",
              "    </tr>\n",
              "  </thead>\n",
              "  <tbody>\n",
              "    <tr>\n",
              "      <th>0</th>\n",
              "      <td>1' where 6406=6406;select count(*) from rdb$fi...</td>\n",
              "      <td>115.0</td>\n",
              "      <td>sqli</td>\n",
              "    </tr>\n",
              "    <tr>\n",
              "      <th>1</th>\n",
              "      <td>1) and 8514=(select count(*) from domain.domai...</td>\n",
              "      <td>111.0</td>\n",
              "      <td>sqli</td>\n",
              "    </tr>\n",
              "    <tr>\n",
              "      <th>2</th>\n",
              "      <td>-3136%') or 3400=6002</td>\n",
              "      <td>21.0</td>\n",
              "      <td>sqli</td>\n",
              "    </tr>\n",
              "    <tr>\n",
              "      <th>3</th>\n",
              "      <td>1) where 7956=7956 or sleep(5)#</td>\n",
              "      <td>31.0</td>\n",
              "      <td>sqli</td>\n",
              "    </tr>\n",
              "    <tr>\n",
              "      <th>4</th>\n",
              "      <td>-7387'))) order by 1--</td>\n",
              "      <td>22.0</td>\n",
              "      <td>sqli</td>\n",
              "    </tr>\n",
              "    <tr>\n",
              "      <th>...</th>\n",
              "      <td>...</td>\n",
              "      <td>...</td>\n",
              "      <td>...</td>\n",
              "    </tr>\n",
              "    <tr>\n",
              "      <th>12882</th>\n",
              "      <td>1978</td>\n",
              "      <td>4.0</td>\n",
              "      <td>password</td>\n",
              "    </tr>\n",
              "    <tr>\n",
              "      <th>12883</th>\n",
              "      <td>1011980</td>\n",
              "      <td>7.0</td>\n",
              "      <td>password</td>\n",
              "    </tr>\n",
              "    <tr>\n",
              "      <th>12884</th>\n",
              "      <td>wildcat</td>\n",
              "      <td>7.0</td>\n",
              "      <td>password</td>\n",
              "    </tr>\n",
              "    <tr>\n",
              "      <th>12885</th>\n",
              "      <td>polina</td>\n",
              "      <td>6.0</td>\n",
              "      <td>password</td>\n",
              "    </tr>\n",
              "    <tr>\n",
              "      <th>12886</th>\n",
              "      <td>freepass</td>\n",
              "      <td>8.0</td>\n",
              "      <td>password</td>\n",
              "    </tr>\n",
              "  </tbody>\n",
              "</table>\n",
              "<p>12887 rows × 3 columns</p>\n",
              "</div>"
            ],
            "text/plain": [
              "                                                   Query  Length     Label\n",
              "0      1' where 6406=6406;select count(*) from rdb$fi...   115.0      sqli\n",
              "1      1) and 8514=(select count(*) from domain.domai...   111.0      sqli\n",
              "2                                  -3136%') or 3400=6002    21.0      sqli\n",
              "3                        1) where 7956=7956 or sleep(5)#    31.0      sqli\n",
              "4                                 -7387'))) order by 1--    22.0      sqli\n",
              "...                                                  ...     ...       ...\n",
              "12882                                               1978     4.0  password\n",
              "12883                                            1011980     7.0  password\n",
              "12884                                            wildcat     7.0  password\n",
              "12885                                             polina     6.0  password\n",
              "12886                                           freepass     8.0  password\n",
              "\n",
              "[12887 rows x 3 columns]"
            ]
          },
          "metadata": {
            "tags": []
          },
          "execution_count": 10
        }
      ]
    },
    {
      "cell_type": "markdown",
      "metadata": {
        "id": "SvIvTOZKOgnL"
      },
      "source": [
        "#Calculate punctuation in SQL query for each row"
      ]
    },
    {
      "cell_type": "code",
      "metadata": {
        "id": "8HuA-S9bepPr",
        "colab": {
          "base_uri": "https://localhost:8080/"
        },
        "outputId": "1150a0c8-cc54-49a5-e25e-e428d462f7b3"
      },
      "source": [
        "def cal_puncndop(df,col,punop_col,l):\n",
        "  df1 = df[[col]].copy()\n",
        "  for i, query in enumerate(df[col]):\n",
        "    count = 0\n",
        "    li = list(query)\n",
        "    for ch in range(len(query)):\n",
        "      if query[ch] in l:\n",
        "        li [ch] = \" \"\n",
        "        #df[col][i] = \"\".join(li)\n",
        "        count = count+1\n",
        "    df1[col][i] = \"\".join(li)\n",
        "    #print((\"\".join(li)))\n",
        "    df[punop_col][i] = count\n",
        "  df[col] = df1[col]\n",
        "  return df  \n",
        "\n",
        "df['punctuation'] = 0\n",
        "#df['operator'] = 0\n",
        "df = cal_puncndop(df,'Query','punctuation',\n",
        "                  ['!', \",\" ,\"\\'\" ,\";\" ,\"\\\"\", \".\", \"-\" ,\"?\",\"[\",\"]\",\")\",\"(\"])"
      ],
      "execution_count": null,
      "outputs": [
        {
          "output_type": "stream",
          "text": [
            "/usr/local/lib/python3.7/dist-packages/ipykernel_launcher.py:13: SettingWithCopyWarning: \n",
            "A value is trying to be set on a copy of a slice from a DataFrame\n",
            "\n",
            "See the caveats in the documentation: https://pandas.pydata.org/pandas-docs/stable/user_guide/indexing.html#returning-a-view-versus-a-copy\n",
            "  del sys.path[0]\n"
          ],
          "name": "stderr"
        }
      ]
    },
    {
      "cell_type": "markdown",
      "metadata": {
        "id": "2ChrOkf5lsIK"
      },
      "source": [
        "\n",
        "\n",
        "```\n",
        "'''\n",
        "df=cal_puncndop(df,'Query','operator',\n",
        "                 [\"<\",\">\", \"<=\", \">=\", \"=\", \"==\", \"!=\", \"<<\", \">>\", \"|\", \"&\", \"-\", \"+\", \"%\", \"^\", \"*\"]) \n",
        "                 should * be included becoz count(*) !!!\n",
        "'''\n",
        "```\n",
        "\n",
        "\n",
        "\n"
      ]
    },
    {
      "cell_type": "code",
      "metadata": {
        "colab": {
          "base_uri": "https://localhost:8080/",
          "height": 417
        },
        "id": "TvgXu-5vQffw",
        "outputId": "7ec08806-1dc5-4348-e3d1-88d221c76816"
      },
      "source": [
        "df"
      ],
      "execution_count": null,
      "outputs": [
        {
          "output_type": "execute_result",
          "data": {
            "text/html": [
              "<div>\n",
              "<style scoped>\n",
              "    .dataframe tbody tr th:only-of-type {\n",
              "        vertical-align: middle;\n",
              "    }\n",
              "\n",
              "    .dataframe tbody tr th {\n",
              "        vertical-align: top;\n",
              "    }\n",
              "\n",
              "    .dataframe thead th {\n",
              "        text-align: right;\n",
              "    }\n",
              "</style>\n",
              "<table border=\"1\" class=\"dataframe\">\n",
              "  <thead>\n",
              "    <tr style=\"text-align: right;\">\n",
              "      <th></th>\n",
              "      <th>Query</th>\n",
              "      <th>Length</th>\n",
              "      <th>Label</th>\n",
              "      <th>punctuation</th>\n",
              "    </tr>\n",
              "  </thead>\n",
              "  <tbody>\n",
              "    <tr>\n",
              "      <th>0</th>\n",
              "      <td>1  where 6406=6406 select count *  from rdb$fi...</td>\n",
              "      <td>115.0</td>\n",
              "      <td>sqli</td>\n",
              "      <td>9</td>\n",
              "    </tr>\n",
              "    <tr>\n",
              "      <th>1</th>\n",
              "      <td>1  and 8514= select count *  from domain domai...</td>\n",
              "      <td>111.0</td>\n",
              "      <td>sqli</td>\n",
              "      <td>11</td>\n",
              "    </tr>\n",
              "    <tr>\n",
              "      <th>2</th>\n",
              "      <td>3136%   or 3400=6002</td>\n",
              "      <td>21.0</td>\n",
              "      <td>sqli</td>\n",
              "      <td>3</td>\n",
              "    </tr>\n",
              "    <tr>\n",
              "      <th>3</th>\n",
              "      <td>1  where 7956=7956 or sleep 5 #</td>\n",
              "      <td>31.0</td>\n",
              "      <td>sqli</td>\n",
              "      <td>3</td>\n",
              "    </tr>\n",
              "    <tr>\n",
              "      <th>4</th>\n",
              "      <td>7387     order by 1</td>\n",
              "      <td>22.0</td>\n",
              "      <td>sqli</td>\n",
              "      <td>7</td>\n",
              "    </tr>\n",
              "    <tr>\n",
              "      <th>...</th>\n",
              "      <td>...</td>\n",
              "      <td>...</td>\n",
              "      <td>...</td>\n",
              "      <td>...</td>\n",
              "    </tr>\n",
              "    <tr>\n",
              "      <th>12882</th>\n",
              "      <td>1978</td>\n",
              "      <td>4.0</td>\n",
              "      <td>password</td>\n",
              "      <td>0</td>\n",
              "    </tr>\n",
              "    <tr>\n",
              "      <th>12883</th>\n",
              "      <td>1011980</td>\n",
              "      <td>7.0</td>\n",
              "      <td>password</td>\n",
              "      <td>0</td>\n",
              "    </tr>\n",
              "    <tr>\n",
              "      <th>12884</th>\n",
              "      <td>wildcat</td>\n",
              "      <td>7.0</td>\n",
              "      <td>password</td>\n",
              "      <td>0</td>\n",
              "    </tr>\n",
              "    <tr>\n",
              "      <th>12885</th>\n",
              "      <td>polina</td>\n",
              "      <td>6.0</td>\n",
              "      <td>password</td>\n",
              "      <td>0</td>\n",
              "    </tr>\n",
              "    <tr>\n",
              "      <th>12886</th>\n",
              "      <td>freepass</td>\n",
              "      <td>8.0</td>\n",
              "      <td>password</td>\n",
              "      <td>0</td>\n",
              "    </tr>\n",
              "  </tbody>\n",
              "</table>\n",
              "<p>12887 rows × 4 columns</p>\n",
              "</div>"
            ],
            "text/plain": [
              "                                                   Query  ...  punctuation\n",
              "0      1  where 6406=6406 select count *  from rdb$fi...  ...            9\n",
              "1      1  and 8514= select count *  from domain domai...  ...           11\n",
              "2                                   3136%   or 3400=6002  ...            3\n",
              "3                        1  where 7956=7956 or sleep 5 #  ...            3\n",
              "4                                  7387     order by 1    ...            7\n",
              "...                                                  ...  ...          ...\n",
              "12882                                               1978  ...            0\n",
              "12883                                            1011980  ...            0\n",
              "12884                                            wildcat  ...            0\n",
              "12885                                             polina  ...            0\n",
              "12886                                           freepass  ...            0\n",
              "\n",
              "[12887 rows x 4 columns]"
            ]
          },
          "metadata": {
            "tags": []
          },
          "execution_count": 12
        }
      ]
    },
    {
      "cell_type": "markdown",
      "metadata": {
        "id": "-LXQ-xh2D2ab"
      },
      "source": [
        "#Create tokens for SQL keywords"
      ]
    },
    {
      "cell_type": "markdown",
      "metadata": {
        "id": "2ZpcqHGkl-vT"
      },
      "source": [
        "\n",
        "\n",
        "```\n",
        "TOKENS:\n",
        "\n",
        "\"(?P<UNION>UNION\\s+(ALL\\s+)?SELECT)|(?P<PREFIX>([\\'\\\"\\)]|\"+ \n",
        "\"((\\'|\\\"|\\)|\\d+|\\w+)\\s))(\\|\\|\\&\\&|and|or|as|where|IN\\sBOOLEAN\\sMODE)\"+\n",
        "\"(\\s|\\()(\\(?\\'?-?\\d+\\'?(=|LIKE|<|>|<=|>=)\\'?-?\\d+|\\(?[\\'\\\"\\\\\\\"]\\S+\"[\\'\\\"\\\\\\\"]\"+\"(\\s+)?(=|LIKE|<|>|<=|>=)(\\s+)?[\\'\\\"\\\\\\\"]))|\"+\n",
        "\"(?P<USUAL>([\\'\\\"]\\s*)(\\|\\||\\&\\&|and|or)\"+\"(\\s*[\\'\\\"])(\\s*[\\'\\\"])=)|\"+\n",
        "\"(?P<DROP>;\\s*DROP\\s+(TABLE|DATABASE)\\s(IF\\s+EXISTS\\s)?\\S+)|+ \n",
        "\"(?P<NOTIN>\\snot\\sin\\s?\\((\\d+|(\\'|\\\")\\w+(\\'|\\\"))\\))|\"+\n",
        "\"(?P<LIMIT>LIMIT\\s+\\d+(\\s+)?,(\\s+)?\\d+)|GROUP_CONCAT\\((?P<GRPCONCAT>.*?)\\)|\"+\n",
        "\"(?P<ORDERBY>ORDER\\s+BY\\s+\\d+)|CONCAT\\((?P<CONCAT>.*?)\\)|\"+\n",
        "\"(?P<CASEWHEN>\\(CASE\\s(\\d+\\s|\\(\\d+=\\d+\\)\\s|NULL\\s)?WHEN\\s(\\d+|\\(?\\d+=\\d+\\)?|NULL)\\sTHEN\\s(\\d+|\\(\\d+=\\d+\\)|NULL)\\sELSE)|\"+\n",
        "\"(?P<DBNAME>(?:(?:m(?:s(?:ysaccessobjects|ysaces|ysobjects|ysqueries|ysrelationships|ysaccessstorage|ysaccessxml|ysmodules|ysmodules2|db)|aster\\.\\.sysdatabases|ysql\\.db)|\"+\n",
        "\"s(?:ys(?:\\.database_name|aux)|chema(?:\\W*\\(|_name)|qlite(_temp)?_master)|+\"\n",
        "\"d(?:atabas|b_nam)e\\W*\\(|information_schema|pg_(catalog|toast)|northwind|tempdb)))|\"+\n",
        "\"(?P<DATABASE>DATABASE\\(\\))|(?P<DTCNAME>table_name|column_name|table_schema|schema_name)|\"+\n",
        "\"(?P<CAST>CAST\\(.*AS\\s+\\w+\\))|(?P<INQUERY>\\(SELECT[^a-z_0-9])|(?P<CHRBYPASS>((CHA?R\\(\\d+\\)(,|\\|\\||\\+)\\s?)+)|\"+\n",
        "\"CHA?R\\((\\d+,\\s?)+\\))|(?P<FROMDB>\\sfrom\\s(dual|sysmaster|sysibm)[\\s.:])|\"+\n",
        "\"(?P<MYSQLFUNC>[^.](ABS|ACOS|ADDDATE|ADDTIME|AES_DECRYPT|AES_ENCRYPT|ANY_VALUE|ASCII|ASIN|ASYMMETRIC_DECRYPT|\"+\n",
        "\"ASYMMETRIC_DERIVE|ASYMMETRIC_ENCRYPT|ASYMMETRIC_SIGN|ASYMMETRIC_VERIFY|ATAN|ATAN2|AVG|BENCHMARK|BIN|BIT_AND|BIT_COUNT|BIT_LENGTH|BIT_OR|BIT_XOR|\"+\n",
        "\"CAST|CEIL|CEILING|CHAR|CHAR_LENGTH|CHARACTER_LENGTH|CHARSET|COALESCE|COERCIBILITY|COLLATION|COMPRESS|CONCAT|CONCAT_WS|CONNECTION_ID|\"+\n",
        "\"CONV|CONVERT|CONVERT_TZ|COS|COT|COUNT|COUNT|CRC32|CREATE_ASYMMETRIC_PRIV_KEY|CREATE_ASYMMETRIC_PUB_KEY|CREATE_DH_PARAMETERS|CREATE_DIGEST|\"+\n",
        "\"CURDATE|CURRENT_DATE|CURRENT_TIME|CURRENT_TIMESTAMP|CURRENT_USER|CURTIME|DATABASE|DATE|DATE_ADD|DATE_FORMAT|DATE_SUB|DATEDIFF|DAY|DAYNAME|\"+\n",
        "\"DAYOFMONTH|DAYOFWEEK|DAYOFYEAR|DECODE|DEFAULT|DEGREES|ELT|ENCODE|EXP|EXPORT_SET|EXTRACT|EXTRACTVALUE|FIELD|FIND_IN_SET|FLOOR|FORMAT|FOUND_ROWS|\"+\n",
        "\"FROM_BASE64|FROM_DAYS|FROM_UNIXTIME|GeometryCollection|GET_FORMAT|GET_LOCK|GREATEST|GROUP_CONCAT|GTID_SUBSET|GTID_SUBTRACT|HEX|HOUR|IF|IFNULL|IIF|\"+\n",
        "\"IN|INET_ATON|INET_NTOA|INET6_ATON|INET6_NTOA|INSERT|INSTR|INTERVAL|IS_FREE_LOCK|IS_IPV4|IS_IPV4_COMPAT|IS_IPV4_MAPPED|IS_IPV6|IS_USED_LOCK|ISNULL|\"+\n",
        "\"JSON_APPEND|JSON_ARRAY|JSON_ARRAY_APPEND|JSON_ARRAY_INSERT|JSON_CONTAINS|JSON_CONTAINS_PATH|JSON_DEPTH|JSON_EXTRACT|JSON_INSERT|JSON_KEYS|JSON_LENGTH|+\"\n",
        "\"JSON_MERGE|JSON_OBJECT|JSON_QUOTE|JSON_REMOVE|JSON_REPLACE|JSON_SEARCH|JSON_SET|JSON_TYPE|JSON_UNQUOTE|JSON_VALID|LAST_INSERT_ID|LCASE|LEAST|LEFT|LENGTH|\"+\n",
        "\"LineString|LN|LOAD_FILE|LOCALTIME|LOCALTIMESTAMP|LOCATE|LOG|LOG10|LOG2|LOWER|LPAD|LTRIM|MAKE_SET|MAKEDATE|MAKETIME|MASTER_POS_WAIT|MAX|MBRContains|MBRCoveredBy|\"+\n",
        "\"MBRCovers|MBRDisjoint|MBREquals|MBRIntersects|MBROverlaps|MBRTouches|MBRWithin|MICROSECOND|MID|MIN|MINUTE|MOD|MONTH|MONTHNAME|MultiLineString|MultiPoint|\"+\n",
        "\"MultiPolygon|NAME_CONST|NOT IN|NOW|NULLIF|OCT|OCTET_LENGTH|OLD_PASSWORD|ORD|PERIOD_ADD|PERIOD_DIFF|PI|Point|Polygon|POSITION|POW|POWER|PROCEDURE ANALYSE|\"+\n",
        "\"QUARTER|QUOTE|RADIANS|RAND|RANDOM_BYTES|RELEASE_ALL_LOCKS|RELEASE_LOCK|REPEAT|REPLACE|REVERSE|RIGHT|ROUND|ROW_COUNT|RPAD|RTRIM|SCHEMA|SEC_TO_TIME|SECOND|\"+\n",
        "\"SESSION_USER|SHA1|SHA2|SIGN|SIN|SLEEP|SOUNDEX|SPACE|SQRT|ST_Area|ST_AsBinary|ST_AsGeoJSON|ST_AsText|ST_Buffer|ST_Buffer_Strategy|ST_Centroid|ST_Contains|\"+\n",
        "\"ST_ConvexHull|ST_Crosses|ST_Difference|ST_Dimension|ST_Disjoint|ST_Distance|ST_Distance_Sphere|ST_EndPoint|ST_Envelope|ST_Equals|ST_ExteriorRing|ST_GeoHash|ST_GeomCollFromText|\"+\n",
        "\"ST_GeomCollFromWKB|ST_GeometryN|ST_GeometryType|ST_GeomFromGeoJSON|ST_GeomFromText|ST_GeomFromWKB|ST_InteriorRingN|ST_Intersection|ST_Intersects|ST_IsClosed|\"+\n",
        "\"ST_IsEmpty|ST_IsSimple|ST_IsValid|ST_LatFromGeoHash|ST_Length|ST_LineFromText|ST_LineFromWKB|ST_LongFromGeoHash|ST_MakeEnvelope|ST_MLineFromText|ST_MLineFromWKB|\"+\n",
        "\"ST_MPointFromText|ST_MPointFromWKB|ST_MPolyFromText|ST_MPolyFromWKB|ST_NumGeometries|ST_NumInteriorRing|ST_NumPoints|ST_Overlaps|ST_PointFromGeoHash|ST_PointFromText|\"+\n",
        "\"ST_PointFromWKB|ST_PointN|ST_PolyFromText|ST_PolyFromWKB|ST_Simplify|ST_SRID|ST_StartPoint|ST_SymDifference|ST_Touches|ST_Union|ST_Validate|ST_Within|ST_X|ST_Y|\"+\n",
        "\"StartPoint|STD|STDDEV|STDDEV_POP|STDDEV_SAMP|STR_TO_DATE|STRCMP|SUBDATE|SUBSTR|SUBSTRING|SUBSTRING_INDEX|SUBTIME|SUM|SYSDATE|SYSTEM_USER|TAN|TIME|TIME_FORMAT|\"+\n",
        "\"TIME_TO_SEC|TIMEDIFF|TIMESTAMP|TIMESTAMPADD|TIMESTAMPDIFF|TO_BASE64|TO_DAYS|TO_SECONDS|TRIM|TRUNCATE|UCASE|UNCOMPRESS|UNCOMPRESSED_LENGTH|UNHEX|UNIX_TIMESTAMP|+\"\n",
        "\"UpdateXML|UPPER|USER|UTC_DATE|UTC_TIME|UTC_TIMESTAMP|UUID|UUID_SHORT|VALIDATE_PASSWORD_STRENGTH|VALUES|VAR_POP|VAR_SAMP|VARIANCE|VERSION|WAIT_FOR_EXECUTED_GTID_SET|\"+\n",
        "\"WAIT_UNTIL_SQL_THREAD_AFTER_GTIDS|WEEK|WEEKDAY|WEEKOFYEAR|WEIGHT_STRING|YEAR|YEARWEEK)\\()|\"+\n",
        "\"(?P<BOOLEAN>\\'?-?\\d+\\'?(=|LIKE)\\'?-?\\d+($|\\s|\\)|,|--|#)|[\\'\\\"\\\\\\\"]\\S+[\\'\\\"\\\\\\\"](\\s+)?(=|LIKE)(\\s+)?[\\'\\\"\\\\\\\"]\\S+)|\"+\n",
        "\"(?P<PLAIN>(@|##|#)[A-Z]\\w+|[A-Z]\\w*(?=\\s*\\.)|(?<=\\.)[A-Z]\\w*|[A-Z]\\w*(?=\\()|`(``|[^`])*`|´(´´|[^´])*´|[_A-Z][_$#\\w]*|[가-힣]+)\"\n",
        "```\n",
        "\n"
      ]
    },
    {
      "cell_type": "code",
      "metadata": {
        "id": "j40mgLnTD621"
      },
      "source": [
        "#make tokens using regex\n",
        "sql_regex = re.compile(\"(?P<UNION>UNION\\s+(ALL\\s+)?SELECT)|(?P<PREFIX>([\\'\\\"\\)]|((\\'|\\\"|\\)|\\d+|\\w+)\\s))(\\|\\|\\&\\&|and|or|as|where|IN\\sBOOLEAN\\sMODE)(\\s|\\()(\\(?\\'?-?\\d+\\'?(=|LIKE|<|>|<=|>=)\\'?-?\\d+|\\(?[\\'\\\"\\\\\\\"]\\S+[\\'\\\"\\\\\\\"](\\s+)?(=|LIKE|<|>|<=|>=)(\\s+)?[\\'\\\"\\\\\\\"]))|(?P<USUAL>([\\'\\\"]\\s*)(\\|\\||\\&\\&|and|or)(\\s*[\\'\\\"])(\\s*[\\'\\\"])=)|(?P<DROP>;\\s*DROP\\s+(TABLE|DATABASE)\\s(IF\\s+EXISTS\\s)?\\S+)|(?P<NOTIN>\\snot\\sin\\s?\\((\\d+|(\\'|\\\")\\w+(\\'|\\\"))\\))|(?P<LIMIT>LIMIT\\s+\\d+(\\s+)?,(\\s+)?\\d+)|GROUP_CONCAT\\((?P<GRPCONCAT>.?)\\)|(?P<ORDERBY>ORDER\\s+BY\\s+\\d+)|CONCAT\\((?P<CONCAT>.?)\\)|(?P<CASEWHEN>\\(CASE\\s(\\d+\\s|\\(\\d+=\\d+\\)\\s|NULL\\s)?WHEN\\s(\\d+|\\(?\\d+=\\d+\\)?|NULL)\\sTHEN\\s(\\d+|\\(\\d+=\\d+\\)|NULL)\\sELSE)|(?P<DBNAME>(?:(?:m(?:s(?:ysaccessobjects|ysaces|ysobjects|ysqueries|ysrelationships|ysaccessstorage|ysaccessxml|ysmodules|ysmodules2|db)|aster\\.\\.sysdatabases|ysql\\.db)|s(?:ys(?:\\.database_name|aux)|chema(?:\\W*\\(|name)|qlite(_temp)?_master)|d(?:atabas|b_nam)e\\W*\\(|information_schema|pg(catalog|toast)|northwind|tempdb)))|(?P<DATABASE>DATABASE\\(\\))|(?P<DTCNAME>table_name|column_name|table_schema|schema_name)|(?P<CAST>CAST\\(.AS\\s+\\w+\\))|(?P<INQUERY>\\(SELECT[^a-z_0-9])|(?P<CHRBYPASS>((CHA?R\\(\\d+\\)(,|\\|\\||\\+)\\s?)+)|CHA?R\\((\\d+,\\s?)+\\))|(?P<FROMDB>\\sfrom\\s(dual|sysmaster|sysibm)[\\s.:])|(?P<MYSQLFUNC>[^.](ABS|ACOS|ADDDATE|ADDTIME|AES_DECRYPT|AES_ENCRYPT|ANY_VALUE|ASCII|ASIN|ASYMMETRIC_DECRYPT|ASYMMETRIC_DERIVE|ASYMMETRIC_ENCRYPT|ASYMMETRIC_SIGN|ASYMMETRIC_VERIFY|ATAN|ATAN2|AVG|BENCHMARK|BIN|BIT_AND|BIT_COUNT|BIT_LENGTH|BIT_OR|BIT_XOR|CAST|CEIL|CEILING|CHAR|CHAR_LENGTH|CHARACTER_LENGTH|CHARSET|COALESCE|COERCIBILITY|COLLATION|COMPRESS|CONCAT|CONCAT_WS|CONNECTION_ID|CONV|CONVERT|CONVERT_TZ|COS|COT|COUNT|COUNT|CRC32|CREATE_ASYMMETRIC_PRIV_KEY|CREATE_ASYMMETRIC_PUB_KEY|CREATE_DH_PARAMETERS|CREATE_DIGEST|CURDATE|CURRENT_DATE|CURRENT_TIME|CURRENT_TIMESTAMP|CURRENT_USER|CURTIME|DATABASE|DATE|DATE_ADD|DATE_FORMAT|DATE_SUB|DATEDIFF|DAY|DAYNAME|DAYOFMONTH|DAYOFWEEK|DAYOFYEAR|DECODE|DEFAULT|DEGREES|ELT|ENCODE|EXP|EXPORT_SET|EXTRACT|EXTRACTVALUE|FIELD|FIND_IN_SET|FLOOR|FORMAT|FOUND_ROWS|FROM_BASE64|FROM_DAYS|FROM_UNIXTIME|GeometryCollection|GET_FORMAT|GET_LOCK|GREATEST|GROUP_CONCAT|GTID_SUBSET|GTID_SUBTRACT|HEX|HOUR|IF|IFNULL|IIF|IN|INET_ATON|INET_NTOA|INET6_ATON|INET6_NTOA|INSERT|INSTR|INTERVAL|IS_FREE_LOCK|IS_IPV4|IS_IPV4_COMPAT|IS_IPV4_MAPPED|IS_IPV6|IS_USED_LOCK|ISNULL|JSON_APPEND|JSON_ARRAY|JSON_ARRAY_APPEND|JSON_ARRAY_INSERT|JSON_CONTAINS|JSON_CONTAINS_PATH|JSON_DEPTH|JSON_EXTRACT|JSON_INSERT|JSON_KEYS|JSON_LENGTH|JSON_MERGE|JSON_OBJECT|JSON_QUOTE|JSON_REMOVE|JSON_REPLACE|JSON_SEARCH|JSON_SET|JSON_TYPE|JSON_UNQUOTE|JSON_VALID|LAST_INSERT_ID|LCASE|LEAST|LEFT|LENGTH|LineString|LN|LOAD_FILE|LOCALTIME|LOCALTIMESTAMP|LOCATE|LOG|LOG10|LOG2|LOWER|LPAD|LTRIM|MAKE_SET|MAKEDATE|MAKETIME|MASTER_POS_WAIT|MAX|MBRContains|MBRCoveredBy|MBRCovers|MBRDisjoint|MBREquals|MBRIntersects|MBROverlaps|MBRTouches|MBRWithin|MICROSECOND|MID|MIN|MINUTE|MOD|MONTH|MONTHNAME|MultiLineString|MultiPoint|MultiPolygon|NAME_CONST|NOT IN|NOW|NULLIF|OCT|OCTET_LENGTH|OLD_PASSWORD|ORD|PERIOD_ADD|PERIOD_DIFF|PI|Point|Polygon|POSITION|POW|POWER|PROCEDURE ANALYSE|QUARTER|QUOTE|RADIANS|RAND|RANDOM_BYTES|RELEASE_ALL_LOCKS|RELEASE_LOCK|REPEAT|REPLACE|REVERSE|RIGHT|ROUND|ROW_COUNT|RPAD|RTRIM|SCHEMA|SEC_TO_TIME|SECOND|SESSION_USER|SHA1|SHA2|SIGN|SIN|SLEEP|SOUNDEX|SPACE|SQRT|ST_Area|ST_AsBinary|ST_AsGeoJSON|ST_AsText|ST_Buffer|ST_Buffer_Strategy|ST_Centroid|ST_Contains|ST_ConvexHull|ST_Crosses|ST_Difference|ST_Dimension|ST_Disjoint|ST_Distance|ST_Distance_Sphere|ST_EndPoint|ST_Envelope|ST_Equals|ST_ExteriorRing|ST_GeoHash|ST_GeomCollFromText|ST_GeomCollFromWKB|ST_GeometryN|ST_GeometryType|ST_GeomFromGeoJSON|ST_GeomFromText|ST_GeomFromWKB|ST_InteriorRingN|ST_Intersection|ST_Intersects|ST_IsClosed|ST_IsEmpty|ST_IsSimple|ST_IsValid|ST_LatFromGeoHash|ST_Length|ST_LineFromText|ST_LineFromWKB|ST_LongFromGeoHash|ST_MakeEnvelope|ST_MLineFromText|ST_MLineFromWKB|ST_MPointFromText|ST_MPointFromWKB|ST_MPolyFromText|ST_MPolyFromWKB|ST_NumGeometries|ST_NumInteriorRing|ST_NumPoints|ST_Overlaps|ST_PointFromGeoHash|ST_PointFromText|ST_PointFromWKB|ST_PointN|ST_PolyFromText|ST_PolyFromWKB|ST_Simplify|ST_SRID|ST_StartPoint|ST_SymDifference|ST_Touches|ST_Union|ST_Validate|ST_Within|ST_X|ST_Y|StartPoint|STD|STDDEV|STDDEV_POP|STDDEV_SAMP|STR_TO_DATE|STRCMP|SUBDATE|SUBSTR|SUBSTRING|SUBSTRING_INDEX|SUBTIME|SUM|SYSDATE|SYSTEM_USER|TAN|TIME|TIME_FORMAT|TIME_TO_SEC|TIMEDIFF|TIMESTAMP|TIMESTAMPADD|TIMESTAMPDIFF|TO_BASE64|TO_DAYS|TO_SECONDS|TRIM|TRUNCATE|UCASE|UNCOMPRESS|UNCOMPRESSED_LENGTH|UNHEX|UNIX_TIMESTAMP|UpdateXML|UPPER|USER|UTC_DATE|UTC_TIME|UTC_TIMESTAMP|UUID|UUID_SHORT|VALIDATE_PASSWORD_STRENGTH|VALUES|VAR_POP|VAR_SAMP|VARIANCE|VERSION|WAIT_FOR_EXECUTED_GTID_SET|WAIT_UNTIL_SQL_THREAD_AFTER_GTIDS|WEEK|WEEKDAY|WEEKOFYEAR|WEIGHT_STRING|YEAR|YEARWEEK)\\()|(?P<BOOLEAN>\\'?-?\\d+\\'?(=|LIKE)\\'?-?\\d+($|\\s|\\)|,|--|#)|[\\'\\\"\\\\\\\"]\\S+[\\'\\\"\\\\\\\"](\\s+)?(=|LIKE)(\\s+)?[\\'\\\"\\\\\\\"]\\S+)|(?P<PLAIN>(@|##|#)[A-Z]\\w+|[A-Z]\\w(?=\\s*\\.)|(?<=\\.)[A-Z]\\w*|[A-Z]\\w*(?=\\()|`(``|[^`])`|´(´´|[^´])´|[A-Z][$#\\w]*|[가-힣]+)\", re.IGNORECASE)"
      ],
      "execution_count": null,
      "outputs": []
    },
    {
      "cell_type": "code",
      "metadata": {
        "id": "6tblE4TbHsf9"
      },
      "source": [
        "#tokenize each query (sqli/plain-text) using regex\n",
        "#feature extraction function --> 1st try is lexical analysis\n",
        "def Sql_tokenizer(raw_sql):\n",
        "  if sql_regex.search(raw_sql):\n",
        "    return [tok[0] for tok in groupby([match.lastgroup for match in sql_regex.finditer(raw_sql)])]\n",
        "  else:\n",
        "    return ['PLAIN']\n",
        "\n",
        "def GetTokenSeq(token_list, N):\n",
        "  token_seq = []\n",
        "  for n in range(0,N):\n",
        "    token_seq+= zip(*(token_list[i:] for i in range(n+1)))\n",
        "  return [str(tuple) for tuple in token_seq]"
      ],
      "execution_count": null,
      "outputs": []
    },
    {
      "cell_type": "markdown",
      "metadata": {
        "id": "vgvW2_UuO2MR"
      },
      "source": [
        "#Calculate keywords in SQL query for each row"
      ]
    },
    {
      "cell_type": "code",
      "metadata": {
        "id": "gACEkYsqE6Uy",
        "colab": {
          "base_uri": "https://localhost:8080/"
        },
        "outputId": "b00836e5-f20b-4128-865e-42cdb3da056b"
      },
      "source": [
        "def cal_keyword(df,col,key_col,l):\n",
        "  for i, query in enumerate(df[col]):\n",
        "    count = 0\n",
        "    query = query.lower()\n",
        "    words = query.split()\n",
        "    for word in words:\n",
        "      if word in l:\n",
        "        count = count+1\n",
        "    df[key_col][i] = count\n",
        "  return df\n",
        "\n",
        "df['keyword'] = 0\n",
        "df = cal_keyword(df, 'Query', 'keyword', \n",
        "                 [\"select\", \"update\", \"insert\", \"create\", \"drop\", \"alter\", \"rename\", \"exec\", \"order\", \n",
        "                  \"group\", \"sleep\",\"count\",\"where\"])"
      ],
      "execution_count": null,
      "outputs": [
        {
          "output_type": "stream",
          "text": [
            "/usr/local/lib/python3.7/dist-packages/ipykernel_launcher.py:9: SettingWithCopyWarning: \n",
            "A value is trying to be set on a copy of a slice from a DataFrame\n",
            "\n",
            "See the caveats in the documentation: https://pandas.pydata.org/pandas-docs/stable/user_guide/indexing.html#returning-a-view-versus-a-copy\n",
            "  if __name__ == '__main__':\n"
          ],
          "name": "stderr"
        }
      ]
    },
    {
      "cell_type": "code",
      "metadata": {
        "colab": {
          "base_uri": "https://localhost:8080/",
          "height": 417
        },
        "id": "FAq-SG1oPdkm",
        "outputId": "e5309622-8f02-4de9-93ab-0a91faadfd65"
      },
      "source": [
        "df"
      ],
      "execution_count": null,
      "outputs": [
        {
          "output_type": "execute_result",
          "data": {
            "text/html": [
              "<div>\n",
              "<style scoped>\n",
              "    .dataframe tbody tr th:only-of-type {\n",
              "        vertical-align: middle;\n",
              "    }\n",
              "\n",
              "    .dataframe tbody tr th {\n",
              "        vertical-align: top;\n",
              "    }\n",
              "\n",
              "    .dataframe thead th {\n",
              "        text-align: right;\n",
              "    }\n",
              "</style>\n",
              "<table border=\"1\" class=\"dataframe\">\n",
              "  <thead>\n",
              "    <tr style=\"text-align: right;\">\n",
              "      <th></th>\n",
              "      <th>Query</th>\n",
              "      <th>Length</th>\n",
              "      <th>Label</th>\n",
              "      <th>punctuation</th>\n",
              "      <th>keyword</th>\n",
              "    </tr>\n",
              "  </thead>\n",
              "  <tbody>\n",
              "    <tr>\n",
              "      <th>0</th>\n",
              "      <td>1  where 6406=6406 select count *  from rdb$fi...</td>\n",
              "      <td>115.0</td>\n",
              "      <td>sqli</td>\n",
              "      <td>9</td>\n",
              "      <td>3</td>\n",
              "    </tr>\n",
              "    <tr>\n",
              "      <th>1</th>\n",
              "      <td>1  and 8514= select count *  from domain domai...</td>\n",
              "      <td>111.0</td>\n",
              "      <td>sqli</td>\n",
              "      <td>11</td>\n",
              "      <td>2</td>\n",
              "    </tr>\n",
              "    <tr>\n",
              "      <th>2</th>\n",
              "      <td>3136%   or 3400=6002</td>\n",
              "      <td>21.0</td>\n",
              "      <td>sqli</td>\n",
              "      <td>3</td>\n",
              "      <td>0</td>\n",
              "    </tr>\n",
              "    <tr>\n",
              "      <th>3</th>\n",
              "      <td>1  where 7956=7956 or sleep 5 #</td>\n",
              "      <td>31.0</td>\n",
              "      <td>sqli</td>\n",
              "      <td>3</td>\n",
              "      <td>2</td>\n",
              "    </tr>\n",
              "    <tr>\n",
              "      <th>4</th>\n",
              "      <td>7387     order by 1</td>\n",
              "      <td>22.0</td>\n",
              "      <td>sqli</td>\n",
              "      <td>7</td>\n",
              "      <td>1</td>\n",
              "    </tr>\n",
              "    <tr>\n",
              "      <th>...</th>\n",
              "      <td>...</td>\n",
              "      <td>...</td>\n",
              "      <td>...</td>\n",
              "      <td>...</td>\n",
              "      <td>...</td>\n",
              "    </tr>\n",
              "    <tr>\n",
              "      <th>12882</th>\n",
              "      <td>1978</td>\n",
              "      <td>4.0</td>\n",
              "      <td>password</td>\n",
              "      <td>0</td>\n",
              "      <td>0</td>\n",
              "    </tr>\n",
              "    <tr>\n",
              "      <th>12883</th>\n",
              "      <td>1011980</td>\n",
              "      <td>7.0</td>\n",
              "      <td>password</td>\n",
              "      <td>0</td>\n",
              "      <td>0</td>\n",
              "    </tr>\n",
              "    <tr>\n",
              "      <th>12884</th>\n",
              "      <td>wildcat</td>\n",
              "      <td>7.0</td>\n",
              "      <td>password</td>\n",
              "      <td>0</td>\n",
              "      <td>0</td>\n",
              "    </tr>\n",
              "    <tr>\n",
              "      <th>12885</th>\n",
              "      <td>polina</td>\n",
              "      <td>6.0</td>\n",
              "      <td>password</td>\n",
              "      <td>0</td>\n",
              "      <td>0</td>\n",
              "    </tr>\n",
              "    <tr>\n",
              "      <th>12886</th>\n",
              "      <td>freepass</td>\n",
              "      <td>8.0</td>\n",
              "      <td>password</td>\n",
              "      <td>0</td>\n",
              "      <td>0</td>\n",
              "    </tr>\n",
              "  </tbody>\n",
              "</table>\n",
              "<p>12887 rows × 5 columns</p>\n",
              "</div>"
            ],
            "text/plain": [
              "                                                   Query  ...  keyword\n",
              "0      1  where 6406=6406 select count *  from rdb$fi...  ...        3\n",
              "1      1  and 8514= select count *  from domain domai...  ...        2\n",
              "2                                   3136%   or 3400=6002  ...        0\n",
              "3                        1  where 7956=7956 or sleep 5 #  ...        2\n",
              "4                                  7387     order by 1    ...        1\n",
              "...                                                  ...  ...      ...\n",
              "12882                                               1978  ...        0\n",
              "12883                                            1011980  ...        0\n",
              "12884                                            wildcat  ...        0\n",
              "12885                                             polina  ...        0\n",
              "12886                                           freepass  ...        0\n",
              "\n",
              "[12887 rows x 5 columns]"
            ]
          },
          "metadata": {
            "tags": []
          },
          "execution_count": 16
        }
      ]
    },
    {
      "cell_type": "markdown",
      "metadata": {
        "id": "cYfTBv22ISJN"
      },
      "source": [
        "#Calculate the likelihood ratio by defining different metrics"
      ]
    },
    {
      "cell_type": "markdown",
      "metadata": {
        "id": "iODi2vb4Ii4Q"
      },
      "source": [
        "REFERENCS:<br>\n",
        "https://en.wikipedia.org/wiki/G-test <br>\n",
        "https://en.wikipedia.org/wiki/Chi-squared_test"
      ]
    },
    {
      "cell_type": "code",
      "metadata": {
        "id": "zz0FYO_RIStI"
      },
      "source": [
        "# G-Test Score for likelihood ratio stats\n",
        "def G_test_score(count, expected):\n",
        "  if (count == 0):\n",
        "    return 0\n",
        "  else:\n",
        "    return 2.0 * count * math.log(count/expected)"
      ],
      "execution_count": null,
      "outputs": []
    },
    {
      "cell_type": "code",
      "metadata": {
        "id": "XjLL-8KiI8HQ"
      },
      "source": [
        "# pre processing to get G-Test score\n",
        "def G_test(tokens, types):\n",
        "  tokens_cnt = tokens.value_counts().astype(float)\n",
        "  types_cnt = types.value_counts().astype(float)\n",
        "  total_cnt = float(sum(tokens_cnt))\n",
        "\n",
        "  # calculate each token counts\n",
        "  token_cnt_table = collections.defaultdict(lambda : collections.Counter())\n",
        "  for _tokens, _types in zip(tokens.values, types.values):\n",
        "    token_cnt_table[_tokens][_types] += 1\n",
        "\n",
        "  datax = []  # create dataset using token_CountVal and types -- new dataset in setted by token count, value\n",
        "  tc_dataframe = pd.DataFrame(list(token_cnt_table.values()), index=token_cnt_table.keys())\n",
        "  tc_dataframe.fillna(0, inplace=True)\n",
        "\n",
        "  # calculate expected, g-score\n",
        "  for column in tc_dataframe.columns.tolist():\n",
        "    #tc_dataframe[column]+= 1\n",
        "    tc_dataframe[column+'_exp'] = (tokens_cnt / total_cnt) * types_cnt[column]\n",
        "    tc_dataframe[column+'_GTest'] = [G_test_score(tkn_count, exp) for tkn_count, exp in \n",
        "                                     zip(tc_dataframe[column], tc_dataframe[column+'_exp'])]\n",
        "  return tc_dataframe"
      ],
      "execution_count": null,
      "outputs": []
    },
    {
      "cell_type": "code",
      "metadata": {
        "id": "dDuGG-d5JUCC"
      },
      "source": [
        "#string entropy to use another feature- but this may not be sufficient\n",
        "def Entropy(raw_sql):\n",
        "  p, lns = collections.Counter(str(raw_sql)), float(len(str(raw_sql)))\n",
        "  return -sum( count/lns * math.log(count/lns, 2) for count in p.values())\n",
        "\n",
        "#g-score means of each tokens\n",
        "def G_means(token_seq, c_name):\n",
        "  try:\n",
        "    g_scores = [tc_dataframe.loc[token][c_name] for token in token_seq]\n",
        "  except KeyError:\n",
        "    return 0\n",
        "  return sum(g_scores)/len(g_scores) if g_scores else 0 # Average"
      ],
      "execution_count": null,
      "outputs": []
    },
    {
      "cell_type": "markdown",
      "metadata": {
        "id": "zjVeU-CINegd"
      },
      "source": [
        "#Create Dataset for Queries"
      ]
    },
    {
      "cell_type": "markdown",
      "metadata": {
        "id": "jGmrmUs8LmyM"
      },
      "source": [
        "\n",
        "\n",
        "```\n",
        "# read data from gdrive\n",
        "from google.colab import drive\n",
        "drive.mount('/content/gdrive')\n",
        "\n",
        "root_path = '/content/gdrive/MyDrive/trainingdata'\n",
        "filelist = os.listdir(root_path)\n",
        "filelist\n",
        "\n",
        "# upload file as variable_name = plain\n",
        "from google.colab import files\n",
        "plain = files.upload()\n",
        "\n",
        "# convert .txt files into list and df\n",
        "df_list = []\n",
        "for file in filelist:\n",
        "  if file == '.DS_Store':\n",
        "    continue\n",
        "  dff = pd.read_csv(os.path.join(root_path,file), sep='Aw3s0meSc0t7', names=['raw_sql'], header=None, engine='python')\n",
        "  #!--files are .txt, not csv\n",
        "  df = dff.copy()\n",
        "  df['type'] = 'plain' if file.split('.')[0] == 'plain' else 'sqli'\n",
        "  df_list.append(df)\n",
        "```\n",
        "\n"
      ]
    },
    {
      "cell_type": "code",
      "metadata": {
        "id": "xAXliBwiDXsN"
      },
      "source": [
        "df_list = []\n",
        "\n",
        "#!--files are .txt, not csv\n",
        "dfPQuerys = pd.read_csv('plain.txt', sep='Aw3s0meSc0t7', names=['raw_sql'], header=None, engine='python')\n",
        "dfPQuerys['type'] = 'plain'\n",
        "df_list.append(dfPQuerys)\n",
        "\n",
        "#!--files are .txt, not csv\n",
        "dfSQuerys = pd.read_csv('sql_querys.txt', sep='Aw3s0meSc0t7', names=['raw_sql'], header=None, engine='python')\n",
        "dfSQuerys['type'] = 'sqli'\n",
        "df_list.append(dfSQuerys)"
      ],
      "execution_count": null,
      "outputs": []
    },
    {
      "cell_type": "code",
      "metadata": {
        "colab": {
          "base_uri": "https://localhost:8080/"
        },
        "id": "xnUVLsbLKO1o",
        "outputId": "4b5eb390-39b7-4090-ef93-6354445acf88"
      },
      "source": [
        "df_list"
      ],
      "execution_count": null,
      "outputs": [
        {
          "output_type": "execute_result",
          "data": {
            "text/plain": [
              "[                                                raw_sql   type\n",
              " 0                                   Add plain text here  plain\n",
              " 1                            “Ne te quaesiveris extra.”  plain\n",
              " 2           “Man is his own star; and the soul that can  plain\n",
              " 3                   Render an honest and a perfect man,  plain\n",
              " 4          Commands all light, all influence, all fate;  plain\n",
              " ...                                                 ...    ...\n",
              " 3689  comment6, http://www.ifreakinglovefishing.com/...  plain\n",
              " 3690  comment6, http://www.lissycakes.com/mysticism/...  plain\n",
              " 3691  comment6, http://www.nataliagallo.com/young-ad...  plain\n",
              " 3692  comment6, http://www.organikjoos.com/trivia/pd...  plain\n",
              " 3693  comment6, http://www.thejustincredible.com/que...  plain\n",
              " \n",
              " [3694 rows x 2 columns],\n",
              "                                                 raw_sql  type\n",
              " 0     59)) AND 3233 IN (SELECT (CHAR(113)+CHAR(98)+C...  sqli\n",
              " 1     59)) AND 5376=CONVERT(INT,(SELECT CHAR(113)+CH...  sqli\n",
              " 2     59\")) AND 5376=CONVERT(INT,(SELECT CHAR(113)+C...  sqli\n",
              " 3     59 AND 6623=CONCAT(CHAR(113)+CHAR(98)+CHAR(98)...  sqli\n",
              " 4     288 && 1=2 uNiON all SEleCT  1,2,3,CONCAT(CHAR...  sqli\n",
              " ...                                                 ...   ...\n",
              " 5923                ;drop databases if exists wordpress  sqli\n",
              " 5924                ; DROP DATABASES IF EXIST wordpress  sqli\n",
              " 5925                         ; DORP DATABASES wordpress  sqli\n",
              " 5926                                         ' or ''='#  sqli\n",
              " 5927                                        \" or \"\"=\"--  sqli\n",
              " \n",
              " [5928 rows x 2 columns]]"
            ]
          },
          "metadata": {
            "tags": []
          },
          "execution_count": 21
        }
      ]
    },
    {
      "cell_type": "code",
      "metadata": {
        "id": "TJeztE3SkTag",
        "colab": {
          "base_uri": "https://localhost:8080/"
        },
        "outputId": "f6a97915-9f29-47c6-fce4-be78cfd9fac6"
      },
      "source": [
        "# god pandas make to us a dataframe like excel format\n",
        "dfQuerys = pd.concat(df_list, ignore_index=True)\n",
        "dfQuerys.dropna(inplace=True) \n",
        "print(dfQuerys['type'].value_counts())"
      ],
      "execution_count": null,
      "outputs": [
        {
          "output_type": "stream",
          "text": [
            "sqli     5928\n",
            "plain    3694\n",
            "Name: type, dtype: int64\n"
          ],
          "name": "stdout"
        }
      ]
    },
    {
      "cell_type": "code",
      "metadata": {
        "colab": {
          "base_uri": "https://localhost:8080/",
          "height": 417
        },
        "id": "28X-eoqSOq_m",
        "outputId": "855f7ab9-3dda-4d0e-d28b-4c8a899bd581"
      },
      "source": [
        "dfQuerys"
      ],
      "execution_count": null,
      "outputs": [
        {
          "output_type": "execute_result",
          "data": {
            "text/html": [
              "<div>\n",
              "<style scoped>\n",
              "    .dataframe tbody tr th:only-of-type {\n",
              "        vertical-align: middle;\n",
              "    }\n",
              "\n",
              "    .dataframe tbody tr th {\n",
              "        vertical-align: top;\n",
              "    }\n",
              "\n",
              "    .dataframe thead th {\n",
              "        text-align: right;\n",
              "    }\n",
              "</style>\n",
              "<table border=\"1\" class=\"dataframe\">\n",
              "  <thead>\n",
              "    <tr style=\"text-align: right;\">\n",
              "      <th></th>\n",
              "      <th>raw_sql</th>\n",
              "      <th>type</th>\n",
              "    </tr>\n",
              "  </thead>\n",
              "  <tbody>\n",
              "    <tr>\n",
              "      <th>0</th>\n",
              "      <td>Add plain text here</td>\n",
              "      <td>plain</td>\n",
              "    </tr>\n",
              "    <tr>\n",
              "      <th>1</th>\n",
              "      <td>“Ne te quaesiveris extra.”</td>\n",
              "      <td>plain</td>\n",
              "    </tr>\n",
              "    <tr>\n",
              "      <th>2</th>\n",
              "      <td>“Man is his own star; and the soul that can</td>\n",
              "      <td>plain</td>\n",
              "    </tr>\n",
              "    <tr>\n",
              "      <th>3</th>\n",
              "      <td>Render an honest and a perfect man,</td>\n",
              "      <td>plain</td>\n",
              "    </tr>\n",
              "    <tr>\n",
              "      <th>4</th>\n",
              "      <td>Commands all light, all influence, all fate;</td>\n",
              "      <td>plain</td>\n",
              "    </tr>\n",
              "    <tr>\n",
              "      <th>...</th>\n",
              "      <td>...</td>\n",
              "      <td>...</td>\n",
              "    </tr>\n",
              "    <tr>\n",
              "      <th>9617</th>\n",
              "      <td>;drop databases if exists wordpress</td>\n",
              "      <td>sqli</td>\n",
              "    </tr>\n",
              "    <tr>\n",
              "      <th>9618</th>\n",
              "      <td>; DROP DATABASES IF EXIST wordpress</td>\n",
              "      <td>sqli</td>\n",
              "    </tr>\n",
              "    <tr>\n",
              "      <th>9619</th>\n",
              "      <td>; DORP DATABASES wordpress</td>\n",
              "      <td>sqli</td>\n",
              "    </tr>\n",
              "    <tr>\n",
              "      <th>9620</th>\n",
              "      <td>' or ''='#</td>\n",
              "      <td>sqli</td>\n",
              "    </tr>\n",
              "    <tr>\n",
              "      <th>9621</th>\n",
              "      <td>\" or \"\"=\"--</td>\n",
              "      <td>sqli</td>\n",
              "    </tr>\n",
              "  </tbody>\n",
              "</table>\n",
              "<p>9622 rows × 2 columns</p>\n",
              "</div>"
            ],
            "text/plain": [
              "                                           raw_sql   type\n",
              "0                              Add plain text here  plain\n",
              "1                       “Ne te quaesiveris extra.”  plain\n",
              "2      “Man is his own star; and the soul that can  plain\n",
              "3              Render an honest and a perfect man,  plain\n",
              "4     Commands all light, all influence, all fate;  plain\n",
              "...                                            ...    ...\n",
              "9617           ;drop databases if exists wordpress   sqli\n",
              "9618           ; DROP DATABASES IF EXIST wordpress   sqli\n",
              "9619                    ; DORP DATABASES wordpress   sqli\n",
              "9620                                    ' or ''='#   sqli\n",
              "9621                                   \" or \"\"=\"--   sqli\n",
              "\n",
              "[9622 rows x 2 columns]"
            ]
          },
          "metadata": {
            "tags": []
          },
          "execution_count": 23
        }
      ]
    },
    {
      "cell_type": "code",
      "metadata": {
        "id": "-7PgYZ3xkr5t"
      },
      "source": [
        "# tokenize raw sql\n",
        "dfQuerys['sql_tokens'] = dfQuerys['raw_sql'].map(lambda x: Sql_tokenizer(x))\n",
        "\n",
        "# get token sequences\n",
        "dfQuerys['token_seq'] = dfQuerys['sql_tokens'].map(lambda x: GetTokenSeq(x, 3))\n",
        "\n",
        "_tokens, _types = zip(*[(token,token_type) for token_list,token_type in \n",
        "                      zip(dfQuerys['token_seq'], dfQuerys['type']) for token in token_list])\n",
        "tc_dataframe = G_test(pd.Series(_tokens), pd.Series(_types))"
      ],
      "execution_count": null,
      "outputs": []
    },
    {
      "cell_type": "code",
      "metadata": {
        "id": "VDAoOsgOk4j2"
      },
      "source": [
        "# now we set real features for machine learning algorithm.\n",
        "dfQuerys['token_length'] = dfQuerys['sql_tokens'].map(lambda x: len(x))\n",
        "dfQuerys['entropy'] = dfQuerys['raw_sql'].map(lambda x: Entropy(x))\n",
        "dfQuerys['sqli_g_means'] = dfQuerys['token_seq'].map(lambda x: G_means(x, 'sqli_GTest'))\n",
        "dfQuerys['plain_g_means'] = dfQuerys['token_seq'].map(lambda x: G_means(x, 'plain_GTest'))"
      ],
      "execution_count": null,
      "outputs": []
    },
    {
      "cell_type": "code",
      "metadata": {
        "colab": {
          "base_uri": "https://localhost:8080/",
          "height": 417
        },
        "id": "y3wAcwJuWA4g",
        "outputId": "bde8bfd9-9551-4e7e-a492-ed535ffad188"
      },
      "source": [
        "dfQuerys"
      ],
      "execution_count": null,
      "outputs": [
        {
          "output_type": "execute_result",
          "data": {
            "text/html": [
              "<div>\n",
              "<style scoped>\n",
              "    .dataframe tbody tr th:only-of-type {\n",
              "        vertical-align: middle;\n",
              "    }\n",
              "\n",
              "    .dataframe tbody tr th {\n",
              "        vertical-align: top;\n",
              "    }\n",
              "\n",
              "    .dataframe thead th {\n",
              "        text-align: right;\n",
              "    }\n",
              "</style>\n",
              "<table border=\"1\" class=\"dataframe\">\n",
              "  <thead>\n",
              "    <tr style=\"text-align: right;\">\n",
              "      <th></th>\n",
              "      <th>raw_sql</th>\n",
              "      <th>type</th>\n",
              "      <th>sql_tokens</th>\n",
              "      <th>token_seq</th>\n",
              "      <th>token_length</th>\n",
              "      <th>entropy</th>\n",
              "      <th>sqli_g_means</th>\n",
              "      <th>plain_g_means</th>\n",
              "    </tr>\n",
              "  </thead>\n",
              "  <tbody>\n",
              "    <tr>\n",
              "      <th>0</th>\n",
              "      <td>Add plain text here</td>\n",
              "      <td>plain</td>\n",
              "      <td>[PLAIN]</td>\n",
              "      <td>[('PLAIN',)]</td>\n",
              "      <td>1</td>\n",
              "      <td>3.536887</td>\n",
              "      <td>-5343.643372</td>\n",
              "      <td>11293.651663</td>\n",
              "    </tr>\n",
              "    <tr>\n",
              "      <th>1</th>\n",
              "      <td>“Ne te quaesiveris extra.”</td>\n",
              "      <td>plain</td>\n",
              "      <td>[PLAIN]</td>\n",
              "      <td>[('PLAIN',)]</td>\n",
              "      <td>1</td>\n",
              "      <td>3.686419</td>\n",
              "      <td>-5343.643372</td>\n",
              "      <td>11293.651663</td>\n",
              "    </tr>\n",
              "    <tr>\n",
              "      <th>2</th>\n",
              "      <td>“Man is his own star; and the soul that can</td>\n",
              "      <td>plain</td>\n",
              "      <td>[PLAIN]</td>\n",
              "      <td>[('PLAIN',)]</td>\n",
              "      <td>1</td>\n",
              "      <td>3.731059</td>\n",
              "      <td>-5343.643372</td>\n",
              "      <td>11293.651663</td>\n",
              "    </tr>\n",
              "    <tr>\n",
              "      <th>3</th>\n",
              "      <td>Render an honest and a perfect man,</td>\n",
              "      <td>plain</td>\n",
              "      <td>[PLAIN]</td>\n",
              "      <td>[('PLAIN',)]</td>\n",
              "      <td>1</td>\n",
              "      <td>3.622739</td>\n",
              "      <td>-5343.643372</td>\n",
              "      <td>11293.651663</td>\n",
              "    </tr>\n",
              "    <tr>\n",
              "      <th>4</th>\n",
              "      <td>Commands all light, all influence, all fate;</td>\n",
              "      <td>plain</td>\n",
              "      <td>[PLAIN]</td>\n",
              "      <td>[('PLAIN',)]</td>\n",
              "      <td>1</td>\n",
              "      <td>3.854223</td>\n",
              "      <td>-5343.643372</td>\n",
              "      <td>11293.651663</td>\n",
              "    </tr>\n",
              "    <tr>\n",
              "      <th>...</th>\n",
              "      <td>...</td>\n",
              "      <td>...</td>\n",
              "      <td>...</td>\n",
              "      <td>...</td>\n",
              "      <td>...</td>\n",
              "      <td>...</td>\n",
              "      <td>...</td>\n",
              "      <td>...</td>\n",
              "    </tr>\n",
              "    <tr>\n",
              "      <th>9617</th>\n",
              "      <td>;drop databases if exists wordpress</td>\n",
              "      <td>sqli</td>\n",
              "      <td>[PLAIN]</td>\n",
              "      <td>[('PLAIN',)]</td>\n",
              "      <td>1</td>\n",
              "      <td>3.685588</td>\n",
              "      <td>-5343.643372</td>\n",
              "      <td>11293.651663</td>\n",
              "    </tr>\n",
              "    <tr>\n",
              "      <th>9618</th>\n",
              "      <td>; DROP DATABASES IF EXIST wordpress</td>\n",
              "      <td>sqli</td>\n",
              "      <td>[PLAIN]</td>\n",
              "      <td>[('PLAIN',)]</td>\n",
              "      <td>1</td>\n",
              "      <td>4.183014</td>\n",
              "      <td>-5343.643372</td>\n",
              "      <td>11293.651663</td>\n",
              "    </tr>\n",
              "    <tr>\n",
              "      <th>9619</th>\n",
              "      <td>; DORP DATABASES wordpress</td>\n",
              "      <td>sqli</td>\n",
              "      <td>[PLAIN]</td>\n",
              "      <td>[('PLAIN',)]</td>\n",
              "      <td>1</td>\n",
              "      <td>4.026987</td>\n",
              "      <td>-5343.643372</td>\n",
              "      <td>11293.651663</td>\n",
              "    </tr>\n",
              "    <tr>\n",
              "      <th>9620</th>\n",
              "      <td>' or ''='#</td>\n",
              "      <td>sqli</td>\n",
              "      <td>[USUAL]</td>\n",
              "      <td>[('USUAL',)]</td>\n",
              "      <td>1</td>\n",
              "      <td>2.321928</td>\n",
              "      <td>0.157788</td>\n",
              "      <td>0.000000</td>\n",
              "    </tr>\n",
              "    <tr>\n",
              "      <th>9621</th>\n",
              "      <td>\" or \"\"=\"--</td>\n",
              "      <td>sqli</td>\n",
              "      <td>[USUAL]</td>\n",
              "      <td>[('USUAL',)]</td>\n",
              "      <td>1</td>\n",
              "      <td>2.368523</td>\n",
              "      <td>0.157788</td>\n",
              "      <td>0.000000</td>\n",
              "    </tr>\n",
              "  </tbody>\n",
              "</table>\n",
              "<p>9622 rows × 8 columns</p>\n",
              "</div>"
            ],
            "text/plain": [
              "                                           raw_sql  ... plain_g_means\n",
              "0                              Add plain text here  ...  11293.651663\n",
              "1                       “Ne te quaesiveris extra.”  ...  11293.651663\n",
              "2      “Man is his own star; and the soul that can  ...  11293.651663\n",
              "3              Render an honest and a perfect man,  ...  11293.651663\n",
              "4     Commands all light, all influence, all fate;  ...  11293.651663\n",
              "...                                            ...  ...           ...\n",
              "9617           ;drop databases if exists wordpress  ...  11293.651663\n",
              "9618           ; DROP DATABASES IF EXIST wordpress  ...  11293.651663\n",
              "9619                    ; DORP DATABASES wordpress  ...  11293.651663\n",
              "9620                                    ' or ''='#  ...      0.000000\n",
              "9621                                   \" or \"\"=\"--  ...      0.000000\n",
              "\n",
              "[9622 rows x 8 columns]"
            ]
          },
          "metadata": {
            "tags": []
          },
          "execution_count": 26
        }
      ]
    },
    {
      "cell_type": "code",
      "metadata": {
        "colab": {
          "base_uri": "https://localhost:8080/"
        },
        "id": "mmP7H9YzVY_n",
        "outputId": "bec5fc8f-5427-45d5-b07e-ef1f57519afe"
      },
      "source": [
        "# list of feature vectors\n",
        "features = ['token_length', 'entropy','sqli_g_means','plain_g_means']\n",
        "XQuerys = dfQuerys[features].to_numpy()\n",
        "print(type(XQuerys))"
      ],
      "execution_count": null,
      "outputs": [
        {
          "output_type": "stream",
          "text": [
            "<class 'numpy.ndarray'>\n"
          ],
          "name": "stdout"
        }
      ]
    },
    {
      "cell_type": "code",
      "metadata": {
        "id": "fS-9dJsTXZ8V"
      },
      "source": [
        "# encode categorical feature\n",
        "labelencoder_y = LabelEncoder()\n",
        "yQuerys = labelencoder_y.fit_transform(dfQuerys['type'].tolist())"
      ],
      "execution_count": null,
      "outputs": []
    },
    {
      "cell_type": "markdown",
      "metadata": {
        "id": "kyZu5MJSPINh"
      },
      "source": [
        "#Specify \"LABEL\" for SQL query for each row"
      ]
    },
    {
      "cell_type": "code",
      "metadata": {
        "id": "VCJSxIipbArt",
        "colab": {
          "base_uri": "https://localhost:8080/"
        },
        "outputId": "0d9ff8fb-8d24-4b6b-b206-7cd1e2909cc5"
      },
      "source": [
        "for i,label in enumerate(df['Label']):\n",
        "  if label in ['sql','username','password']:\n",
        "    df['Label'][i] = 'non-sqli'"
      ],
      "execution_count": null,
      "outputs": [
        {
          "output_type": "stream",
          "text": [
            "/usr/local/lib/python3.7/dist-packages/ipykernel_launcher.py:3: SettingWithCopyWarning: \n",
            "A value is trying to be set on a copy of a slice from a DataFrame\n",
            "\n",
            "See the caveats in the documentation: https://pandas.pydata.org/pandas-docs/stable/user_guide/indexing.html#returning-a-view-versus-a-copy\n",
            "  This is separate from the ipykernel package so we can avoid doing imports until\n"
          ],
          "name": "stderr"
        }
      ]
    },
    {
      "cell_type": "markdown",
      "metadata": {
        "id": "XhOtoRgsPepW"
      },
      "source": [
        "#StandardScaler and LabelEncoding"
      ]
    },
    {
      "cell_type": "code",
      "metadata": {
        "id": "b-dnXEytaanp",
        "colab": {
          "base_uri": "https://localhost:8080/"
        },
        "outputId": "50e67993-39c5-4140-af01-47a4d4be6637"
      },
      "source": [
        "def scale_data(df, column_list):\n",
        "  for column in column_list:\n",
        "    df[column] = df[column].astype('float')\n",
        "    encoder = preprocessing.StandardScaler()\n",
        "    df[column] = encoder.fit_transform(df[column].values.reshape(-1,1))\n",
        "    print(\"The \",column, \"is encoded\")\n",
        "  return(df)\n",
        "  \n",
        "def encode_categorical(df, column_list):\n",
        "  for column in column_list:\n",
        "    df[column] = df[column].astype('str')\n",
        "    encoder = preprocessing.LabelEncoder()\n",
        "    encoded_list = encoder.fit_transform(df[column])\n",
        "    #print(encoded_list)\n",
        "    #print(len(encoded_list))\n",
        "    encoded_series = pd.Series(encoded_list)\n",
        "    df[column] = encoded_series\n",
        "    print(\"The \", column, \"is encoded \")\n",
        "  return(df)\n",
        "\n",
        "df = encode_categorical(df,['Label'])"
      ],
      "execution_count": null,
      "outputs": [
        {
          "output_type": "stream",
          "text": [
            "The  Label is encoded \n"
          ],
          "name": "stdout"
        }
      ]
    },
    {
      "cell_type": "code",
      "metadata": {
        "id": "EL68z-lsbkWQ",
        "colab": {
          "base_uri": "https://localhost:8080/"
        },
        "outputId": "9e80ee4c-d912-4dea-c524-1ebcc58e6be1"
      },
      "source": [
        "X = np.array(df.drop(labels=['Label', 'Query'],axis=1)).reshape(len(df),1,3)\n",
        "print(len(X))\n",
        "y = np.array(df['Label'])\n",
        "print(y)"
      ],
      "execution_count": null,
      "outputs": [
        {
          "output_type": "stream",
          "text": [
            "12887\n",
            "[1 1 1 ... 0 0 0]\n"
          ],
          "name": "stdout"
        }
      ]
    },
    {
      "cell_type": "markdown",
      "metadata": {
        "id": "5eADL6ObP8Ax"
      },
      "source": [
        "#Split datasets into Test and Train"
      ]
    },
    {
      "cell_type": "code",
      "metadata": {
        "id": "9JKkbU7o6LK9"
      },
      "source": [
        "X_train, X_test, y_train, y_test = train_test_split(X, y, test_size=0.2, random_state=42)\n",
        "train_dataset = tf.data.Dataset.from_tensor_slices((X_train, y_train))\n",
        "test_dataset = tf.data.Dataset.from_tensor_slices((X_test, y_test))\n",
        "BATCH_SIZE = 64\n",
        "SHUFFLE_BUFFER_SIZE = 100\n",
        "train_dataset = train_dataset.shuffle(SHUFFLE_BUFFER_SIZE).batch(BATCH_SIZE)\n",
        "test_dataset = test_dataset.batch(BATCH_SIZE)"
      ],
      "execution_count": null,
      "outputs": []
    },
    {
      "cell_type": "code",
      "metadata": {
        "id": "9t3E-d_O7r_h"
      },
      "source": [
        "embedding = \"https://tfhub.dev/google/tf2-preview/gnews-swivel-20dim/1\"\n",
        "hub_layer = hub.KerasLayer(embedding, input_shape=[], dtype=tf.string, trainable=True)"
      ],
      "execution_count": null,
      "outputs": []
    },
    {
      "cell_type": "code",
      "metadata": {
        "id": "pN_CKYN6AYgU"
      },
      "source": [
        "X_train_df, X_test_df, y_train_df, y_test_df = train_test_split(X_df, y_df, test_size=0.2, random_state=42)\n",
        "train_dataset_df = tf.data.Dataset.from_tensor_slices((X_train_df, y_train_df))\n",
        "test_dataset_df = tf.data.Dataset.from_tensor_slices((X_test_df, y_test_df))\n",
        "BATCH_SIZE_df = 64\n",
        "SHUFFLE_BUFFER_SIZE_df = 100\n",
        "train_dataset_df = train_dataset_df.shuffle(SHUFFLE_BUFFER_SIZE_df).batch(BATCH_SIZE_df)\n",
        "test_dataset_df = test_dataset_df.batch(BATCH_SIZE_df)"
      ],
      "execution_count": null,
      "outputs": []
    },
    {
      "cell_type": "code",
      "metadata": {
        "id": "nQ8H_KRwV5FN"
      },
      "source": [
        "#split into test-train datasets\n",
        "X_trainQuerys, X_testQuerys, y_trainQuerys, y_testQuerys = train_test_split(XQuerys, yQuerys, test_size=0.2, random_state = 0)"
      ],
      "execution_count": null,
      "outputs": []
    },
    {
      "cell_type": "markdown",
      "metadata": {
        "id": "FII4BFFToIKC"
      },
      "source": [
        "\n",
        "\n",
        "```\n",
        "'''\n",
        "# Feature Scaling - not used\n",
        "sc_X = StandardScaler()\n",
        "X_train = sc_X.fit_transform(X_train)\n",
        "X_test = sc_X.transform(X_test)\n",
        "'''\n",
        "```\n",
        "\n"
      ]
    },
    {
      "cell_type": "markdown",
      "metadata": {
        "id": "XmJK9C8xQHd_"
      },
      "source": [
        "#Create ML models for SQL injection"
      ]
    },
    {
      "cell_type": "markdown",
      "metadata": {
        "id": "ntCqiBBr44FX"
      },
      "source": [
        "#Using Logistic Regression (LR)"
      ]
    },
    {
      "cell_type": "markdown",
      "metadata": {
        "id": "wWSZPpb4_ofw"
      },
      "source": [
        "**Logistic Regression (LR)**"
      ]
    },
    {
      "cell_type": "code",
      "metadata": {
        "id": "I41vsnbE41mW"
      },
      "source": [
        "clf = LogisticRegression(random_state=0).fit(X_train_df, y_train_df)\n",
        "y_pred_df = clf.predict(X_test_df)"
      ],
      "execution_count": null,
      "outputs": []
    },
    {
      "cell_type": "markdown",
      "metadata": {
        "id": "AT5IjpcnQQnj"
      },
      "source": [
        "#Using Simple NN (SEQUENTIAL)"
      ]
    },
    {
      "cell_type": "markdown",
      "metadata": {
        "id": "RMALp0YO7Y4r"
      },
      "source": [
        "#Generate NN Models"
      ]
    },
    {
      "cell_type": "markdown",
      "metadata": {
        "id": "yMkpRmj37FHn"
      },
      "source": [
        "**NN Model-1**"
      ]
    },
    {
      "cell_type": "code",
      "metadata": {
        "id": "t7jcYLp-7yd1"
      },
      "source": [
        "model1 = tf.keras.Sequential()\n",
        "model1.add(tf.keras.layers.Dense(20, activation='relu', input_shape= (None,3)))\n",
        "model1.add(tf.keras.layers.Dense(16, activation='relu'))\n",
        "model1.add(tf.keras.layers.Dense(1))"
      ],
      "execution_count": null,
      "outputs": []
    },
    {
      "cell_type": "markdown",
      "metadata": {
        "id": "JrT6xPBa67tP"
      },
      "source": [
        "**NN Model-2**"
      ]
    },
    {
      "cell_type": "code",
      "metadata": {
        "id": "r7KAf5K57MvA"
      },
      "source": [
        "input_dim = X_train_df.shape[1]  # Number of features\n",
        "model2 = Sequential()\n",
        "model2.add(layers.Dense(20, input_dim=input_dim, activation='relu'))\n",
        "model2.add(layers.Dense(10, activation='tanh'))\n",
        "model2.add(layers.Dense(1024, activation='relu'))\n",
        "model2.add(layers.BatchNormalization())\n",
        "model2.add(layers.Dropout(0.5))\n",
        "model2.add(layers.Dense(1, activation='sigmoid')) #1=noOfNeurons"
      ],
      "execution_count": null,
      "outputs": []
    },
    {
      "cell_type": "markdown",
      "metadata": {
        "id": "FpO3S3b1kYPo"
      },
      "source": [
        "\n",
        "\n",
        "```\n",
        "#tanh distorts more than sigmoid\n",
        "# tanh(x) = 2 / (1 + pow(e,-2x)) => S-shaped curve cut at y=1\n",
        "# sigmoid(x) = 1 / (1 + pow(e,-x)) => S-shaped curve cut at y=0.5\n",
        "```\n",
        "\n"
      ]
    },
    {
      "cell_type": "markdown",
      "metadata": {
        "id": "Pu0uXKYG7R2x"
      },
      "source": [
        "#Compile NN Models"
      ]
    },
    {
      "cell_type": "markdown",
      "metadata": {
        "id": "U_MgkUYb7UM3"
      },
      "source": [
        "**NN Model-1**"
      ]
    },
    {
      "cell_type": "code",
      "metadata": {
        "id": "OkEJ0jY272XU",
        "colab": {
          "base_uri": "https://localhost:8080/"
        },
        "outputId": "21cf2f3f-4d23-47de-9c74-5299eeec7b80"
      },
      "source": [
        "model1.compile(optimizer='adam', metrics=['accuracy'], \n",
        "               loss=tf.keras.losses.BinaryCrossentropy(from_logits=True))\n",
        "history = model1.fit(train_dataset, epochs=20, verbose=1)\n",
        "pred = model1.predict(X_test)\n",
        "for i in range(len(pred)):\n",
        "  if pred[i]>0.5:\n",
        "    pred[i]=1\n",
        "  elif pred[i]<=0.5:\n",
        "    pred[i]=0"
      ],
      "execution_count": null,
      "outputs": [
        {
          "output_type": "stream",
          "text": [
            "Epoch 1/20\n",
            "162/162 [==============================] - 1s 2ms/step - loss: 1.3980 - accuracy: 0.7682\n",
            "Epoch 2/20\n",
            "162/162 [==============================] - 0s 2ms/step - loss: 0.1633 - accuracy: 0.9612\n",
            "Epoch 3/20\n",
            "162/162 [==============================] - 0s 1ms/step - loss: 0.1347 - accuracy: 0.9983\n",
            "Epoch 4/20\n",
            "162/162 [==============================] - 0s 1ms/step - loss: 0.1142 - accuracy: 0.9976\n",
            "Epoch 5/20\n",
            "162/162 [==============================] - 0s 2ms/step - loss: 0.0978 - accuracy: 0.9968\n",
            "Epoch 6/20\n",
            "162/162 [==============================] - 0s 1ms/step - loss: 0.0850 - accuracy: 0.9955\n",
            "Epoch 7/20\n",
            "162/162 [==============================] - 0s 1ms/step - loss: 0.0751 - accuracy: 0.9949\n",
            "Epoch 8/20\n",
            "162/162 [==============================] - 0s 2ms/step - loss: 0.0672 - accuracy: 0.9941\n",
            "Epoch 9/20\n",
            "162/162 [==============================] - 0s 1ms/step - loss: 0.0610 - accuracy: 0.9940\n",
            "Epoch 10/20\n",
            "162/162 [==============================] - 0s 1ms/step - loss: 0.0561 - accuracy: 0.9938\n",
            "Epoch 11/20\n",
            "162/162 [==============================] - 0s 2ms/step - loss: 0.0522 - accuracy: 0.9936\n",
            "Epoch 12/20\n",
            "162/162 [==============================] - 0s 2ms/step - loss: 0.0490 - accuracy: 0.9935\n",
            "Epoch 13/20\n",
            "162/162 [==============================] - 0s 2ms/step - loss: 0.0465 - accuracy: 0.9935\n",
            "Epoch 14/20\n",
            "162/162 [==============================] - 0s 2ms/step - loss: 0.0445 - accuracy: 0.9936\n",
            "Epoch 15/20\n",
            "162/162 [==============================] - 0s 1ms/step - loss: 0.0429 - accuracy: 0.9935\n",
            "Epoch 16/20\n",
            "162/162 [==============================] - 0s 1ms/step - loss: 0.0416 - accuracy: 0.9935\n",
            "Epoch 17/20\n",
            "162/162 [==============================] - 0s 1ms/step - loss: 0.0406 - accuracy: 0.9935\n",
            "Epoch 18/20\n",
            "162/162 [==============================] - 0s 2ms/step - loss: 0.0397 - accuracy: 0.9934\n",
            "Epoch 19/20\n",
            "162/162 [==============================] - 0s 2ms/step - loss: 0.0389 - accuracy: 0.9933\n",
            "Epoch 20/20\n",
            "162/162 [==============================] - 0s 1ms/step - loss: 0.0385 - accuracy: 0.9933\n"
          ],
          "name": "stdout"
        }
      ]
    },
    {
      "cell_type": "code",
      "metadata": {
        "colab": {
          "base_uri": "https://localhost:8080/"
        },
        "id": "pL86qSIaaqwP",
        "outputId": "26b2fd5e-2df7-4496-8aca-6e2b56c34427"
      },
      "source": [
        "model1.summary()"
      ],
      "execution_count": null,
      "outputs": [
        {
          "output_type": "stream",
          "text": [
            "Model: \"sequential\"\n",
            "_________________________________________________________________\n",
            "Layer (type)                 Output Shape              Param #   \n",
            "=================================================================\n",
            "dense (Dense)                (None, None, 20)          80        \n",
            "_________________________________________________________________\n",
            "dense_1 (Dense)              (None, None, 16)          336       \n",
            "_________________________________________________________________\n",
            "dense_2 (Dense)              (None, None, 1)           17        \n",
            "=================================================================\n",
            "Total params: 433\n",
            "Trainable params: 433\n",
            "Non-trainable params: 0\n",
            "_________________________________________________________________\n"
          ],
          "name": "stdout"
        }
      ]
    },
    {
      "cell_type": "markdown",
      "metadata": {
        "id": "B-CFb0mD7v_2"
      },
      "source": [
        "**NN Model-2**"
      ]
    },
    {
      "cell_type": "code",
      "metadata": {
        "id": "4nDOjraK7vfM",
        "colab": {
          "base_uri": "https://localhost:8080/"
        },
        "outputId": "97e1d310-2b9d-4291-9ccb-3ab756922be0"
      },
      "source": [
        "model2.compile(loss='binary_crossentropy', optimizer='adam', metrics=['accuracy'])\n",
        "classifier_nn = model2.fit(X_train_df,y_train_df, epochs=10, verbose=True, \n",
        "                          validation_data=(X_test_df, y_test_df), batch_size=15)\n",
        "pred = model2.predict(X_test_df)\n",
        "for i in range(len(pred)):\n",
        "  if(pred[i] > 0.5):\n",
        "    pred[i] = 1\n",
        "  elif(pred[i] <= 0.5):\n",
        "    pred[i] = 0"
      ],
      "execution_count": null,
      "outputs": [
        {
          "output_type": "stream",
          "text": [
            "Epoch 1/10\n",
            "224/224 [==============================] - 18s 8ms/step - loss: 0.3319 - accuracy: 0.8480 - val_loss: 0.6853 - val_accuracy: 0.7000\n",
            "Epoch 2/10\n",
            "224/224 [==============================] - 1s 4ms/step - loss: 0.1203 - accuracy: 0.9541 - val_loss: 0.3950 - val_accuracy: 0.7083\n",
            "Epoch 3/10\n",
            "224/224 [==============================] - 1s 4ms/step - loss: 0.0900 - accuracy: 0.9656 - val_loss: 0.0664 - val_accuracy: 0.9798\n",
            "Epoch 4/10\n",
            "224/224 [==============================] - 1s 4ms/step - loss: 0.0879 - accuracy: 0.9741 - val_loss: 0.0599 - val_accuracy: 0.9798\n",
            "Epoch 5/10\n",
            "224/224 [==============================] - 1s 4ms/step - loss: 0.0804 - accuracy: 0.9714 - val_loss: 0.0589 - val_accuracy: 0.9786\n",
            "Epoch 6/10\n",
            "224/224 [==============================] - 1s 4ms/step - loss: 0.0774 - accuracy: 0.9701 - val_loss: 0.1005 - val_accuracy: 0.9714\n",
            "Epoch 7/10\n",
            "224/224 [==============================] - 1s 4ms/step - loss: 0.0818 - accuracy: 0.9685 - val_loss: 0.0804 - val_accuracy: 0.9714\n",
            "Epoch 8/10\n",
            "224/224 [==============================] - 1s 4ms/step - loss: 0.0828 - accuracy: 0.9726 - val_loss: 0.0531 - val_accuracy: 0.9798\n",
            "Epoch 9/10\n",
            "224/224 [==============================] - 1s 4ms/step - loss: 0.0811 - accuracy: 0.9655 - val_loss: 0.0736 - val_accuracy: 0.9762\n",
            "Epoch 10/10\n",
            "224/224 [==============================] - 1s 4ms/step - loss: 0.0762 - accuracy: 0.9729 - val_loss: 0.0622 - val_accuracy: 0.9762\n"
          ],
          "name": "stdout"
        }
      ]
    },
    {
      "cell_type": "code",
      "metadata": {
        "id": "fXvXzgmW788U",
        "colab": {
          "base_uri": "https://localhost:8080/"
        },
        "outputId": "a1017f81-c62e-41d8-b144-9976ae59f72c"
      },
      "source": [
        "model2.summary()"
      ],
      "execution_count": null,
      "outputs": [
        {
          "output_type": "stream",
          "text": [
            "Model: \"sequential\"\n",
            "_________________________________________________________________\n",
            "Layer (type)                 Output Shape              Param #   \n",
            "=================================================================\n",
            "dense (Dense)                (None, 20)                94360     \n",
            "_________________________________________________________________\n",
            "dense_1 (Dense)              (None, 10)                210       \n",
            "_________________________________________________________________\n",
            "dense_2 (Dense)              (None, 1024)              11264     \n",
            "_________________________________________________________________\n",
            "batch_normalization (BatchNo (None, 1024)              4096      \n",
            "_________________________________________________________________\n",
            "dropout (Dropout)            (None, 1024)              0         \n",
            "_________________________________________________________________\n",
            "dense_3 (Dense)              (None, 1)                 1025      \n",
            "=================================================================\n",
            "Total params: 110,955\n",
            "Trainable params: 108,907\n",
            "Non-trainable params: 2,048\n",
            "_________________________________________________________________\n"
          ],
          "name": "stdout"
        }
      ]
    },
    {
      "cell_type": "markdown",
      "metadata": {
        "id": "3B77tfy2Zpl4"
      },
      "source": [
        "#Using Gradient Boosting Tree (GBT)"
      ]
    },
    {
      "cell_type": "markdown",
      "metadata": {
        "id": "Pw3CsGKSZao5"
      },
      "source": [
        "**Gradient Boosting Tree Model**"
      ]
    },
    {
      "cell_type": "code",
      "metadata": {
        "id": "Lx-WsrC5a8r4"
      },
      "source": [
        "lr_list = [0.05, 0.075, 0.1, 0.25, 0.5, 0.75, 1]\n",
        "n_est = [20, 40, 60, 80, 100]\n",
        "gbt_acc = []\n",
        "\n",
        "for learning_rate in lr_list: \n",
        "  n_est_acc = [] \n",
        "  #print(\"Learning rate: \", learning_rate)\n",
        "  for n_estimators in n_est:\n",
        "    gb_clf = GradientBoostingClassifier(n_estimators=n_estimators, learning_rate=learning_rate, \n",
        "                                        max_depth=7, random_state=0)\n",
        "    gb_clf.fit(X_trainQuerys, y_trainQuerys)\n",
        "    n_est_acc.append(gb_clf.score(X_testQuerys, y_testQuerys))\n",
        "  gbt_acc.append(n_est_acc)"
      ],
      "execution_count": null,
      "outputs": []
    },
    {
      "cell_type": "markdown",
      "metadata": {
        "id": "dgb54YCvQfPy"
      },
      "source": [
        "#Evaluation Metrics"
      ]
    },
    {
      "cell_type": "markdown",
      "metadata": {
        "id": "wuFv1bzc8wqv"
      },
      "source": [
        "#Generating Appropriate Evaluation Metrics"
      ]
    },
    {
      "cell_type": "code",
      "metadata": {
        "id": "ivBNWDjdQuQd"
      },
      "source": [
        "def accuracy_function(tp,tn,fp,fn):\n",
        "  accuracy = (tp+tn) / (tp+tn+fp+fn)\n",
        "  return accuracy\n",
        "\n",
        "def precision_function(tp,fp):\n",
        "  precision = tp / (tp+fp)\n",
        "  return precision\n",
        "\n",
        "def recall_function(tp,fn):\n",
        "  recall=tp / (tp+fn)\n",
        "  return recall"
      ],
      "execution_count": null,
      "outputs": []
    },
    {
      "cell_type": "code",
      "metadata": {
        "id": "Ks2BKQI6Qu1Z"
      },
      "source": [
        "def confusion_matrix(truth,predicted):\n",
        "  true_positive = 0\n",
        "  true_negative = 0\n",
        "  false_positive = 0\n",
        "  false_negative = 0\n",
        "    \n",
        "  for true,pred in zip(truth,predicted):\n",
        "    if true == 1:\n",
        "      if pred == true:\n",
        "        true_positive += 1\n",
        "      elif pred != true:\n",
        "        false_negative += 1\n",
        "\n",
        "    elif true == 0:\n",
        "      if pred == true:\n",
        "        true_negative+= 1\n",
        "      elif pred != true:\n",
        "        false_positive+= 1\n",
        "            \n",
        "  accuracy = accuracy_function(true_positive, true_negative, false_positive, false_negative)\n",
        "  precision = precision_function(true_positive, false_positive)\n",
        "  recall = recall_function(true_positive, false_negative)  \n",
        "  return (accuracy, precision, recall)"
      ],
      "execution_count": null,
      "outputs": []
    },
    {
      "cell_type": "markdown",
      "metadata": {
        "id": "bYUnRXSo8pgo"
      },
      "source": [
        "#Applying Evaluation Metric on the defined ML Models"
      ]
    },
    {
      "cell_type": "markdown",
      "metadata": {
        "id": "eqqbOCbJ_tsZ"
      },
      "source": [
        "**Logistic Regression (LR)**"
      ]
    },
    {
      "cell_type": "code",
      "metadata": {
        "id": "1rU0KeMr_v5P",
        "colab": {
          "base_uri": "https://localhost:8080/"
        },
        "outputId": "4796767a-a6f6-4184-bd78-68415cdc454f"
      },
      "source": [
        "lr_ac = accuracy_score(y_test_df, y_pred_df)\n",
        "print(\"Evaluation metrics for LR Model: \\n\")\n",
        "print(\"Accuracy: \", lr_ac)"
      ],
      "execution_count": null,
      "outputs": [
        {
          "output_type": "stream",
          "text": [
            "Evaluation metrics for LR Model: \n",
            "\n",
            "Accuracy:  0.9285714285714286\n"
          ],
          "name": "stdout"
        }
      ]
    },
    {
      "cell_type": "markdown",
      "metadata": {
        "id": "9HqIiWRL8ihI"
      },
      "source": [
        "**NN Model-1**"
      ]
    },
    {
      "cell_type": "code",
      "metadata": {
        "id": "dgPpsA4e8ZYX",
        "colab": {
          "base_uri": "https://localhost:8080/"
        },
        "outputId": "200cd4bb-3377-448c-9aa8-55bf761bf044"
      },
      "source": [
        "model1.evaluate(test_dataset)"
      ],
      "execution_count": null,
      "outputs": [
        {
          "output_type": "stream",
          "text": [
            "41/41 [==============================] - 0s 1ms/step - loss: 0.0525 - accuracy: 0.9938\n"
          ],
          "name": "stdout"
        },
        {
          "output_type": "execute_result",
          "data": {
            "text/plain": [
              "[0.052461378276348114, 0.9937936663627625]"
            ]
          },
          "metadata": {
            "tags": []
          },
          "execution_count": 47
        }
      ]
    },
    {
      "cell_type": "code",
      "metadata": {
        "id": "r55HBBBMQvDt",
        "colab": {
          "base_uri": "https://localhost:8080/"
        },
        "outputId": "7e66c9c2-0813-4028-f7de-f42cb5f32c38"
      },
      "source": [
        "accuracy1, precision1, recall1 = confusion_matrix(y_test,pred)\n",
        "print(\"Evaluation metrics for NN Model-1: \\n\")\n",
        "print(\"Accuracy: {0} \\nPrecision score: {1} \\nRecall score: {2}\".format(accuracy1, precision1, recall1))"
      ],
      "execution_count": null,
      "outputs": [
        {
          "output_type": "stream",
          "text": [
            "Evaluation metrics for NN Model-1: \n",
            "\n",
            "Accuracy: 0.3630952380952381 \n",
            "Precision score: 0.8185185185185185 \n",
            "Recall score: 0.3125884016973126\n"
          ],
          "name": "stdout"
        }
      ]
    },
    {
      "cell_type": "markdown",
      "metadata": {
        "id": "F-mb1Nlx8mN0"
      },
      "source": [
        "**NN Model-2**"
      ]
    },
    {
      "cell_type": "code",
      "metadata": {
        "id": "5htdK06bAK9D",
        "colab": {
          "base_uri": "https://localhost:8080/"
        },
        "outputId": "22b61717-ce5c-4ac8-ba4e-543271116c6d"
      },
      "source": [
        "model2.evaluate(test_dataset_df)"
      ],
      "execution_count": null,
      "outputs": [
        {
          "output_type": "stream",
          "text": [
            "14/14 [==============================] - 0s 5ms/step - loss: 0.0622 - accuracy: 0.9762\n"
          ],
          "name": "stdout"
        },
        {
          "output_type": "execute_result",
          "data": {
            "text/plain": [
              "[0.062163662165403366, 0.976190447807312]"
            ]
          },
          "metadata": {
            "tags": []
          },
          "execution_count": 49
        }
      ]
    },
    {
      "cell_type": "code",
      "metadata": {
        "id": "7IwKmHm69J-_",
        "colab": {
          "base_uri": "https://localhost:8080/"
        },
        "outputId": "f9d76976-4c89-41f0-c159-880a00ab3b36"
      },
      "source": [
        "accuracy2, precision2, recall2 = confusion_matrix(y_test_df,pred)\n",
        "print(\"Evaluation metrics for NN Model-2: \\n\")\n",
        "print(\"Accuracy: {0} \\nPrecision score: {1} \\nRecall score: {2}\".format(accuracy2, precision2, recall2))"
      ],
      "execution_count": null,
      "outputs": [
        {
          "output_type": "stream",
          "text": [
            "Evaluation metrics for NN Model-2: \n",
            "\n",
            "Accuracy: 0.9761904761904762 \n",
            "Precision score: 0.9296296296296296 \n",
            "Recall score: 0.996031746031746\n"
          ],
          "name": "stdout"
        }
      ]
    },
    {
      "cell_type": "markdown",
      "metadata": {
        "id": "vCdLFZszpxgf"
      },
      "source": [
        "**Gradient Boosting Tree Model**"
      ]
    },
    {
      "cell_type": "code",
      "metadata": {
        "colab": {
          "base_uri": "https://localhost:8080/"
        },
        "id": "YMBRlxRYenaN",
        "outputId": "c89f1809-dcb8-48f6-90a8-47ef2e2204e7"
      },
      "source": [
        "print(\"Evaluation metrics for GBT Model: \\n\")\n",
        "\n",
        "for i_lr in range(0,len(gbt_acc)): \n",
        "  print(\"FOR LEARNING RATE=\", lr_list[i_lr], \":--------------- \")\n",
        "  for i_n_est in range(0,len(n_est)):\n",
        "    print(i_n_est, \") \", \"FOR NO.OF ESTIMATORS=\", n_est[i_n_est], \": \")\n",
        "    print(\"Accuracy: {0}\".format(gbt_acc[i_lr][i_n_est]))\n",
        "  print(\"\\n\")"
      ],
      "execution_count": null,
      "outputs": [
        {
          "output_type": "stream",
          "text": [
            "Evaluation metrics for GBT Model: \n",
            "\n",
            "FOR LEARNING RATE= 0.05 :--------------- \n",
            "0 )  FOR NO.OF ESTIMATORS= 20 : \n",
            "Accuracy: 0.9994805194805195\n",
            "1 )  FOR NO.OF ESTIMATORS= 40 : \n",
            "Accuracy: 0.9994805194805195\n",
            "2 )  FOR NO.OF ESTIMATORS= 60 : \n",
            "Accuracy: 0.9994805194805195\n",
            "3 )  FOR NO.OF ESTIMATORS= 80 : \n",
            "Accuracy: 0.9994805194805195\n",
            "4 )  FOR NO.OF ESTIMATORS= 100 : \n",
            "Accuracy: 0.9994805194805195\n",
            "\n",
            "\n",
            "FOR LEARNING RATE= 0.075 :--------------- \n",
            "0 )  FOR NO.OF ESTIMATORS= 20 : \n",
            "Accuracy: 0.9994805194805195\n",
            "1 )  FOR NO.OF ESTIMATORS= 40 : \n",
            "Accuracy: 0.9994805194805195\n",
            "2 )  FOR NO.OF ESTIMATORS= 60 : \n",
            "Accuracy: 0.9994805194805195\n",
            "3 )  FOR NO.OF ESTIMATORS= 80 : \n",
            "Accuracy: 0.9994805194805195\n",
            "4 )  FOR NO.OF ESTIMATORS= 100 : \n",
            "Accuracy: 0.9994805194805195\n",
            "\n",
            "\n",
            "FOR LEARNING RATE= 0.1 :--------------- \n",
            "0 )  FOR NO.OF ESTIMATORS= 20 : \n",
            "Accuracy: 0.9994805194805195\n",
            "1 )  FOR NO.OF ESTIMATORS= 40 : \n",
            "Accuracy: 0.9994805194805195\n",
            "2 )  FOR NO.OF ESTIMATORS= 60 : \n",
            "Accuracy: 0.9994805194805195\n",
            "3 )  FOR NO.OF ESTIMATORS= 80 : \n",
            "Accuracy: 0.9994805194805195\n",
            "4 )  FOR NO.OF ESTIMATORS= 100 : \n",
            "Accuracy: 0.9994805194805195\n",
            "\n",
            "\n",
            "FOR LEARNING RATE= 0.25 :--------------- \n",
            "0 )  FOR NO.OF ESTIMATORS= 20 : \n",
            "Accuracy: 0.9994805194805195\n",
            "1 )  FOR NO.OF ESTIMATORS= 40 : \n",
            "Accuracy: 0.9994805194805195\n",
            "2 )  FOR NO.OF ESTIMATORS= 60 : \n",
            "Accuracy: 0.9994805194805195\n",
            "3 )  FOR NO.OF ESTIMATORS= 80 : \n",
            "Accuracy: 0.9994805194805195\n",
            "4 )  FOR NO.OF ESTIMATORS= 100 : \n",
            "Accuracy: 0.9994805194805195\n",
            "\n",
            "\n",
            "FOR LEARNING RATE= 0.5 :--------------- \n",
            "0 )  FOR NO.OF ESTIMATORS= 20 : \n",
            "Accuracy: 0.9994805194805195\n",
            "1 )  FOR NO.OF ESTIMATORS= 40 : \n",
            "Accuracy: 0.9994805194805195\n",
            "2 )  FOR NO.OF ESTIMATORS= 60 : \n",
            "Accuracy: 0.9994805194805195\n",
            "3 )  FOR NO.OF ESTIMATORS= 80 : \n",
            "Accuracy: 0.9994805194805195\n",
            "4 )  FOR NO.OF ESTIMATORS= 100 : \n",
            "Accuracy: 0.9994805194805195\n",
            "\n",
            "\n",
            "FOR LEARNING RATE= 0.75 :--------------- \n",
            "0 )  FOR NO.OF ESTIMATORS= 20 : \n",
            "Accuracy: 0.9994805194805195\n",
            "1 )  FOR NO.OF ESTIMATORS= 40 : \n",
            "Accuracy: 0.9994805194805195\n",
            "2 )  FOR NO.OF ESTIMATORS= 60 : \n",
            "Accuracy: 0.9994805194805195\n",
            "3 )  FOR NO.OF ESTIMATORS= 80 : \n",
            "Accuracy: 0.9994805194805195\n",
            "4 )  FOR NO.OF ESTIMATORS= 100 : \n",
            "Accuracy: 0.9994805194805195\n",
            "\n",
            "\n",
            "FOR LEARNING RATE= 1 :--------------- \n",
            "0 )  FOR NO.OF ESTIMATORS= 20 : \n",
            "Accuracy: 0.9994805194805195\n",
            "1 )  FOR NO.OF ESTIMATORS= 40 : \n",
            "Accuracy: 0.9994805194805195\n",
            "2 )  FOR NO.OF ESTIMATORS= 60 : \n",
            "Accuracy: 0.9994805194805195\n",
            "3 )  FOR NO.OF ESTIMATORS= 80 : \n",
            "Accuracy: 0.9994805194805195\n",
            "4 )  FOR NO.OF ESTIMATORS= 100 : \n",
            "Accuracy: 0.9994805194805195\n",
            "\n",
            "\n"
          ],
          "name": "stdout"
        }
      ]
    },
    {
      "cell_type": "markdown",
      "metadata": {
        "id": "BMLr9LiABqPw"
      },
      "source": [
        "In information retrieval,<br> \n",
        "Precision_score=1:\n",
        "means that every result retrieved by a search was relevant \n",
        "(but says nothing about whether all relevant documents retrieved) \n",
        "<br>\n",
        "Recall_score=1:\n",
        "means that all relevant documents were retrieved by the search \n",
        "(but says nothing about how many irrelevant documents also retrieved)"
      ]
    },
    {
      "cell_type": "markdown",
      "metadata": {
        "id": "iVK-_KYQb3gX"
      },
      "source": [
        "\n",
        "\n",
        "---\n",
        "\n"
      ]
    },
    {
      "cell_type": "markdown",
      "metadata": {
        "id": "7z4ZD8YXoxQr"
      },
      "source": [
        "#Predict for Input Queries"
      ]
    },
    {
      "cell_type": "code",
      "metadata": {
        "id": "xK4PB8uMpjFR"
      },
      "source": [
        "#check test data using ensemble of GBT\n",
        "def Check_is_sql(sql):\n",
        "  # do some pre-processing remoce comment /**/, /*!num */\n",
        "  _tmp = re.sub(r'(/\\*[\\w\\d(\\`|\\~|\\!|\\@|\\#|\\$|\\%|\\^|\\&|\\*|\\(|\\)|\\-|\\_|\\=|\\+|\\[|\\{|\\]|\\}|\\\\|\\:|\\;|\\'|\\\"|\\<|\\>|\\,|\\.|\\?)\\s\\r\\n\\v\\f]*\\*/)', \n",
        "                ' ', sql)\n",
        "  _tmp = re.sub(r'(/\\*!\\d+|\\*/)', ' ', _tmp)\n",
        "  sql_tokens = Sql_tokenizer(_tmp.strip())\n",
        "  token_seq = GetTokenSeq(sql_tokens, 3)\n",
        "  sqli_g_means = G_means(token_seq, 'sqli_GTest')\n",
        "  plain_g_means = G_means(token_seq, 'plain_GTest')\n",
        "  \n",
        "  #actually supposed to use ensemble using previously developed GBT models\n",
        "  gb_clf = GradientBoostingClassifier(n_estimators=100, learning_rate=0.75, max_depth=7, random_state=0)\n",
        "  gb_clf.fit(X_trainQuerys, y_trainQuerys)   \n",
        "  _X = [[len(sql_tokens), Entropy(sql), sqli_g_means, plain_g_means]]\n",
        "  return gb_clf.predict(_X)[0]"
      ],
      "execution_count": null,
      "outputs": []
    },
    {
      "cell_type": "markdown",
      "metadata": {
        "id": "7lVm8M7rouLA"
      },
      "source": [
        "\n",
        "\n",
        "```\n",
        "ch1 = '-1923 union select scott, python, machine, learning, study, version, 1--'\n",
        "ch2 = 'this is a job you dont mean'\n",
        "ch3 = \"%' or '0'='0\"\n",
        "ch4 = \"insert into students values('ram','singh',9.9);\"\n",
        "```\n",
        "\n"
      ]
    },
    {
      "cell_type": "code",
      "metadata": {
        "id": "w7Sg4UlioU8P",
        "colab": {
          "base_uri": "https://localhost:8080/"
        },
        "outputId": "d343a73d-c656-4819-c0bc-277dfd30bc57"
      },
      "source": [
        "check_data = input('Enter the query to check (SQL_injection/ normal_text): ')\n",
        "res = Check_is_sql(check_data)\n",
        "print (\"Predicting input query “%s” (SQL_injection/ normal_text):-------->\\n\" %check_data)\n",
        "\n",
        "if res == 1:\n",
        "    print (\"The given input query “%s” can be used for SQL_injection. Please restructure your database accordingly...!!!\" %check_data)\n",
        "else:\n",
        "    print (\"The given input query “%s” is normal text. Your database is safe to this query with regards to SQL_injection....\" %check_data)"
      ],
      "execution_count": null,
      "outputs": [
        {
          "output_type": "stream",
          "text": [
            "Enter the query to check (SQL_injection/ normal_text): insert into student values 2, 'saharsh','sayak';\n",
            "Predicting input query “insert into student values 2, 'saharsh','sayak';” (SQL_injection/ normal_text):-------->\n",
            "\n",
            "The given input query “insert into student values 2, 'saharsh','sayak';” is normal text. Your database is safe to this query with regards to SQL_injection....\n"
          ],
          "name": "stdout"
        }
      ]
    }
  ]
}